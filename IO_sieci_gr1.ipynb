{
  "nbformat": 4,
  "nbformat_minor": 0,
  "metadata": {
    "colab": {
      "provenance": [],
      "collapsed_sections": [
        "wNIZr3E3PciO",
        "Tp_SKTSePciO",
        "ZVKi872hPciO"
      ],
      "toc_visible": true,
      "include_colab_link": true
    },
    "kernelspec": {
      "name": "python3",
      "display_name": "Python 3"
    },
    "language_info": {
      "name": "python"
    }
  },
  "cells": [
    {
      "cell_type": "markdown",
      "metadata": {
        "id": "view-in-github",
        "colab_type": "text"
      },
      "source": [
        "<a href=\"https://colab.research.google.com/github/JanZon00/Neural-Networks/blob/main/IO_sieci_gr1.ipynb\" target=\"_parent\"><img src=\"https://colab.research.google.com/assets/colab-badge.svg\" alt=\"Open In Colab\"/></a>"
      ]
    },
    {
      "cell_type": "markdown",
      "source": [
        "##Importy"
      ],
      "metadata": {
        "id": "BzZ7XJaoFkCV"
      }
    },
    {
      "cell_type": "markdown",
      "source": [
        "#Członkowie zespołu\n",
        "\n",
        "\n",
        "\n",
        "* Jan Zoń \n",
        "* Szymon Werk \n",
        "* Mateusz Kruk \n",
        "* Maciej Macuga \n",
        "\n"
      ],
      "metadata": {
        "id": "RDspKyvjVti9"
      }
    },
    {
      "cell_type": "code",
      "source": [
        "#importy modułów\n",
        "import numpy as np\n",
        "import pandas as pd\n",
        "import matplotlib.pyplot as plt\n",
        "import seaborn as sns\n",
        "\n",
        "import keras\n",
        "from keras.models import Sequential \n",
        "from keras.layers import Dense,Activation,Dropout\n",
        "from keras.utils import np_utils\n",
        "\n",
        "from sklearn.model_selection import train_test_split\n",
        "from sklearn.preprocessing import normalize\n",
        "from sklearn import metrics\n",
        "from sklearn.metrics import confusion_matrix\n",
        "\n",
        "!pip install minisom\n",
        "from minisom import MiniSom"
      ],
      "metadata": {
        "id": "xE0IDTzWc3l0",
        "colab": {
          "base_uri": "https://localhost:8080/"
        },
        "outputId": "bea6cb05-d802-471d-daff-2140557cb4d5"
      },
      "execution_count": null,
      "outputs": [
        {
          "output_type": "stream",
          "name": "stdout",
          "text": [
            "Looking in indexes: https://pypi.org/simple, https://us-python.pkg.dev/colab-wheels/public/simple/\n",
            "Requirement already satisfied: minisom in /usr/local/lib/python3.7/dist-packages (2.3.0)\n"
          ]
        }
      ]
    },
    {
      "cell_type": "markdown",
      "source": [
        "# Opis zbiorów danych\n",
        "\n",
        "Nasz zespół wybrał dwa zbiory danych:\n",
        "\n",
        "\n",
        "*   Chess (King rook vs king) - [link](https://archive-beta.ics.uci.edu/dataset/23/chess+king+rook+vs+king)\n",
        "*   Internet advertisements - [link](https://archive-beta.ics.uci.edu/dataset/51/internet+advertisements)\n",
        "\n",
        "\n",
        "####**Należy się upewnić, że do notebooka są dodane pliki 'krkopt.data' oraz 'ad.data'!**\n",
        "\n",
        "\n",
        "\n"
      ],
      "metadata": {
        "id": "SVmnIohsNi0K"
      }
    },
    {
      "cell_type": "markdown",
      "source": [
        "##Chess\n",
        "\n",
        "Zestaw danych został dodany w 1994 roku, który rozważa sytuację w szachach, kiedy biały gracz posiada króla oraz wieże, a czarny tylko króla.\n",
        "\n",
        "Rekord w danych przedstawia się w taki sposób:\n",
        "\n",
        "*   Kolumna Białego króla\n",
        "*   Wiersz Białego króla\n",
        "*   Kolumna Białej wieży\n",
        "*   Wiersz Białej wieży\n",
        "*   Kolumna Czarnego króla\n",
        "*   Wiersz Czarnego króla\n",
        "*   **[Klasa]** Zwycięstwo białego gracza w N ruchach lub remis \n",
        "\n",
        "Wszystkie wartości są dyskretne, przyjmują wartości:\n",
        "* **kolumna pionka** - {a, b, c, ... h}\n",
        "* **wiersz pionka** - {1, 2, 3, ... 8}\n",
        "* **zwycięstwo białego gracza** - {draw, zero, one, two, ..., sixteen}\n",
        "\n",
        "Na przykład:\n",
        "\n",
        "```\n",
        "a, 1, b, 3, c, 2, draw\n",
        "```\n",
        "\n",
        "Zestaw zawiera 28056 rekordów i nie zawiera żadnych brakujących wartości.\n"
      ],
      "metadata": {
        "id": "_4TFBmaXOgK_"
      }
    },
    {
      "cell_type": "code",
      "source": [
        "chess_ds=pd.read_csv(\"krkopt.data\", header=None)"
      ],
      "metadata": {
        "id": "PG5GS_bCOSX1"
      },
      "execution_count": null,
      "outputs": []
    },
    {
      "cell_type": "markdown",
      "source": [
        "##Reklamy\n",
        "\n",
        "Zestaw danych dodano w 1998 roku i dotyczy rozpoznawania reklam na stronach HTML.\n",
        "Zestaw zawiera 3279 rekordów z czego 2821 nie są reklamami, a 458 to reklamy.\n",
        "\n",
        "Celem zestawu jest przewidzenie czy obrazek wyświetlony na stronie HTML to reklama czy nie na podstawie słów zawartych w kodzie HTML.\n",
        "\n",
        "Zestaw zawiera 1558 atrybutów o reklamie.\n",
        "Pierwsze 3 atrybuty to wysokość, szerokość i proporcje reklamy. Dane te są ciągłe i możliwy jest ich brak. Dla naszego modelu założyłem, że reklama której rozmiaru nie znamy ma wymiary 0.\n",
        "\n",
        "Reszta atrybutów to dane binarne informujące o występowaniu pewnych słów i fraz w kodzie HTML obrazka. Te dane są kompletne.\n",
        "\n",
        "W ostatnim atrybucie znajduje się informacja czy dany obrazek to reklama. Dla naszego modelu zmieniłem stringi 'ad.' i 'nonad.' na 1 i 0 respektywnie."
      ],
      "metadata": {
        "id": "x3Rs94QdOf0h"
      }
    },
    {
      "cell_type": "code",
      "source": [
        "ads_dataset = pd.read_csv(\"ad.data\", header=None)"
      ],
      "metadata": {
        "id": "uQjQcbDd-xi_",
        "colab": {
          "base_uri": "https://localhost:8080/"
        },
        "outputId": "bd60f568-3728-4e2f-e643-fa4b2b8c6c1c"
      },
      "execution_count": null,
      "outputs": [
        {
          "output_type": "stream",
          "name": "stderr",
          "text": [
            "/usr/local/lib/python3.7/dist-packages/IPython/core/interactiveshell.py:3326: DtypeWarning: Columns (3) have mixed types.Specify dtype option on import or set low_memory=False.\n",
            "  exec(code_obj, self.user_global_ns, self.user_ns)\n"
          ]
        }
      ]
    },
    {
      "cell_type": "markdown",
      "source": [
        "#Przygotowanie danych"
      ],
      "metadata": {
        "id": "Rm2MiGQCNwUQ"
      }
    },
    {
      "cell_type": "markdown",
      "source": [
        "##Chess\n",
        "\n",
        "Zestaw danych zawiera wiele wartości, które nie są liczbami, więc wszystkie oznaczenia kolumn są mapowane na wartości licbzowe, tak samo jak z klasami.\n",
        "\n",
        "Z racji tego, że wszystkie dane przyjmują wartości z góry ustalonych zakresów (przedział [0,7]), to zamieniamy je na wartości kategoryczne i łączymy.\n"
      ],
      "metadata": {
        "id": "Qa5Q6UGGOsjw"
      }
    },
    {
      "cell_type": "code",
      "source": [
        "#słowniki dla pozycji X oraz klas\n",
        "letterMap = {\n",
        "    'a': 0,\n",
        "    'b': 1,\n",
        "    'c': 2,\n",
        "    'd': 3,\n",
        "    'e': 4,\n",
        "    'f': 5,\n",
        "    'g': 6,\n",
        "    'h': 7,\n",
        "}\n",
        "\n",
        "classMap = {\n",
        "    'draw'    : 0,\n",
        "    'zero'    : 1,\n",
        "    'one'     : 2,\n",
        "    'two'     : 3,\n",
        "    'three'   : 4,\n",
        "    'four'    : 5,\n",
        "    'five'    : 6,\n",
        "    'six'     : 7,\n",
        "    'seven'   : 8,\n",
        "    'eight'   : 9,\n",
        "    'nine'    : 10,\n",
        "    'ten'     : 11,\n",
        "    'eleven'  : 12,\n",
        "    'twelve'  : 13,\n",
        "    'thirteen': 14,\n",
        "    'fourteen': 15,\n",
        "    'fifteen': 16,\n",
        "    'sixteen' : 17,\n",
        "}\n",
        "\n",
        "mapToNumericalClass = lambda x: classMap[x]\n",
        "toNumber = lambda x: letterMap[x]\n",
        "\n",
        "for i in range(0,5,2):\n",
        "  chess_ds[i] = chess_ds[i].apply(toNumber) #zamień literki na indeksy\n",
        "\n",
        "for i in range(1, 6, 2):\n",
        "  chess_ds[i] -= 1\n",
        "\n",
        "chess_ds[6] = chess_ds[6].apply(mapToNumericalClass) #zamień klasy na indeksy\n",
        "\n",
        "#wyciągnij wartości na wejście i wyjście\n",
        "X_chess = chess_ds.iloc[:, :-1].values\n",
        "Y_chess = chess_ds.iloc[:, -1].values\n",
        "\n",
        "def to_categorical(x):\n",
        "  x = [np_utils.to_categorical(elem, num_classes=8) for elem in x]\n",
        "  x = [ y for elem in x for y in elem]\n",
        "  return x\n",
        "\n",
        "X_chess = np.array(list(map(to_categorical, X_chess)))"
      ],
      "metadata": {
        "id": "aJI4QjcgQ904"
      },
      "execution_count": null,
      "outputs": []
    },
    {
      "cell_type": "markdown",
      "source": [
        "#### Wizualizacja"
      ],
      "metadata": {
        "id": "oVsUbblYOXEA"
      }
    },
    {
      "cell_type": "code",
      "source": [
        "!pip install chess #polecenie colaba do pobrania modułu do wizualizacji\n",
        "import chess\n",
        "import chess.svg\n",
        "import random\n",
        "from IPython.core.display import display_svg\n",
        "\n",
        "#wybierz losowy rekord\n",
        "pos = chess_ds.iloc[[random.randint(0, chess_ds.shape[0])]].values[0]\n",
        "\n",
        "board = chess.Board('8/8/8/8/8/8/8/8') #inicjalizuj pustą szachownicę\n",
        "\n",
        "#zamień pozycje z bazy na obiekt\n",
        "p1 = chess.parse_square(pos[0]+str(pos[1])) \n",
        "p2 = chess.parse_square(pos[2]+str(pos[3]))\n",
        "p3 = chess.parse_square(pos[4]+str(pos[5]))\n",
        "\n",
        "#ustaw pionki na pozycji\n",
        "board.set_piece_at(p1, chess.Piece(chess.KING, chess.WHITE))\n",
        "board.set_piece_at(p2, chess.Piece(chess.ROOK, chess.WHITE))\n",
        "board.set_piece_at(p3, chess.Piece(chess.KING, chess.BLACK))\n",
        "\n",
        "#wyświetl pozycje i klasę\n",
        "display_svg(chess.svg.board(board, size=300))\n",
        "print('Class:',pos[-1])\n"
      ],
      "metadata": {
        "id": "-3m_Q6xbOd3s",
        "colab": {
          "base_uri": "https://localhost:8080/",
          "height": 377
        },
        "outputId": "d8717fa1-34dc-45b2-e59f-3a143fb91a64"
      },
      "execution_count": null,
      "outputs": [
        {
          "output_type": "stream",
          "name": "stdout",
          "text": [
            "Looking in indexes: https://pypi.org/simple, https://us-python.pkg.dev/colab-wheels/public/simple/\n",
            "Requirement already satisfied: chess in /usr/local/lib/python3.7/dist-packages (1.9.3)\n"
          ]
        },
        {
          "output_type": "display_data",
          "data": {
            "image/svg+xml": "<svg baseProfile=\"tiny\" height=\"300\" version=\"1.2\" viewBox=\"0 0 390 390\" width=\"300\" xmlns=\"http://www.w3.org/2000/svg\" xmlns:xlink=\"http://www.w3.org/1999/xlink\"><desc><pre>. . . . . . . .\n. . . . . . . .\n. . . . . . . .\n. . R . . . . .\n. . . . . . . .\n. . k . . . . .\n. . . . . . . .\n. . K . . . . .</pre></desc><defs><g class=\"white rook\" fill=\"#fff\" fill-rule=\"evenodd\" id=\"white-rook\" stroke=\"#000\" stroke-linecap=\"round\" stroke-linejoin=\"round\" stroke-width=\"1.5\"><path d=\"M9 39h27v-3H9v3zM12 36v-4h21v4H12zM11 14V9h4v2h5V9h5v2h5V9h4v5\" stroke-linecap=\"butt\" /><path d=\"M34 14l-3 3H14l-3-3\" /><path d=\"M31 17v12.5H14V17\" stroke-linecap=\"butt\" stroke-linejoin=\"miter\" /><path d=\"M31 29.5l1.5 2.5h-20l1.5-2.5\" /><path d=\"M11 14h23\" fill=\"none\" stroke-linejoin=\"miter\" /></g><g class=\"white king\" fill=\"none\" fill-rule=\"evenodd\" id=\"white-king\" stroke=\"#000\" stroke-linecap=\"round\" stroke-linejoin=\"round\" stroke-width=\"1.5\"><path d=\"M22.5 11.63V6M20 8h5\" stroke-linejoin=\"miter\" /><path d=\"M22.5 25s4.5-7.5 3-10.5c0 0-1-2.5-3-2.5s-3 2.5-3 2.5c-1.5 3 3 10.5 3 10.5\" fill=\"#fff\" stroke-linecap=\"butt\" stroke-linejoin=\"miter\" /><path d=\"M11.5 37c5.5 3.5 15.5 3.5 21 0v-7s9-4.5 6-10.5c-4-6.5-13.5-3.5-16 4V27v-3.5c-3.5-7.5-13-10.5-16-4-3 6 5 10 5 10V37z\" fill=\"#fff\" /><path d=\"M11.5 30c5.5-3 15.5-3 21 0m-21 3.5c5.5-3 15.5-3 21 0m-21 3.5c5.5-3 15.5-3 21 0\" /></g><g class=\"black king\" fill=\"none\" fill-rule=\"evenodd\" id=\"black-king\" stroke=\"#000\" stroke-linecap=\"round\" stroke-linejoin=\"round\" stroke-width=\"1.5\"><path d=\"M22.5 11.63V6\" stroke-linejoin=\"miter\" /><path d=\"M22.5 25s4.5-7.5 3-10.5c0 0-1-2.5-3-2.5s-3 2.5-3 2.5c-1.5 3 3 10.5 3 10.5\" fill=\"#000\" stroke-linecap=\"butt\" stroke-linejoin=\"miter\" /><path d=\"M11.5 37c5.5 3.5 15.5 3.5 21 0v-7s9-4.5 6-10.5c-4-6.5-13.5-3.5-16 4V27v-3.5c-3.5-7.5-13-10.5-16-4-3 6 5 10 5 10V37z\" fill=\"#000\" /><path d=\"M20 8h5\" stroke-linejoin=\"miter\" /><path d=\"M32 29.5s8.5-4 6.03-9.65C34.15 14 25 18 22.5 24.5l.01 2.1-.01-2.1C20 18 9.906 14 6.997 19.85c-2.497 5.65 4.853 9 4.853 9M11.5 30c5.5-3 15.5-3 21 0m-21 3.5c5.5-3 15.5-3 21 0m-21 3.5c5.5-3 15.5-3 21 0\" stroke=\"#fff\" /></g></defs><rect fill=\"#212121\" height=\"390\" width=\"390\" x=\"0\" y=\"0\" /><g fill=\"#e5e5e5\" stroke=\"#e5e5e5\" transform=\"translate(20, 0) scale(0.75, 0.75)\"><path d=\"M23.328 10.016q-1.742 0-2.414.398-.672.398-.672 1.36 0 .765.5 1.218.508.445 1.375.445 1.196 0 1.914-.843.727-.852.727-2.258v-.32zm2.867-.594v4.992h-1.437v-1.328q-.492.797-1.227 1.18-.734.375-1.797.375-1.343 0-2.14-.75-.79-.758-.79-2.024 0-1.476.985-2.226.992-.75 2.953-.75h2.016V8.75q0-.992-.656-1.531-.649-.547-1.829-.547-.75 0-1.46.18-.711.18-1.368.539V6.062q.79-.304 1.532-.453.742-.156 1.445-.156 1.898 0 2.836.984.937.985.937 2.985z\" /></g><g fill=\"#e5e5e5\" stroke=\"#e5e5e5\" transform=\"translate(20, 375) scale(0.75, 0.75)\"><path d=\"M23.328 10.016q-1.742 0-2.414.398-.672.398-.672 1.36 0 .765.5 1.218.508.445 1.375.445 1.196 0 1.914-.843.727-.852.727-2.258v-.32zm2.867-.594v4.992h-1.437v-1.328q-.492.797-1.227 1.18-.734.375-1.797.375-1.343 0-2.14-.75-.79-.758-.79-2.024 0-1.476.985-2.226.992-.75 2.953-.75h2.016V8.75q0-.992-.656-1.531-.649-.547-1.829-.547-.75 0-1.46.18-.711.18-1.368.539V6.062q.79-.304 1.532-.453.742-.156 1.445-.156 1.898 0 2.836.984.937.985.937 2.985z\" /></g><g fill=\"#e5e5e5\" stroke=\"#e5e5e5\" transform=\"translate(65, 0) scale(0.75, 0.75)\"><path d=\"M24.922 10.047q0-1.586-.656-2.485-.649-.906-1.79-.906-1.14 0-1.796.906-.649.899-.649 2.485 0 1.586.649 2.492.656.898 1.797.898 1.14 0 1.789-.898.656-.906.656-2.492zm-4.89-3.055q.452-.781 1.14-1.156.695-.383 1.656-.383 1.594 0 2.586 1.266 1 1.265 1 3.328 0 2.062-1 3.328-.992 1.266-2.586 1.266-.96 0-1.656-.375-.688-.383-1.14-1.164v1.312h-1.446V2.258h1.445z\" /></g><g fill=\"#e5e5e5\" stroke=\"#e5e5e5\" transform=\"translate(65, 375) scale(0.75, 0.75)\"><path d=\"M24.922 10.047q0-1.586-.656-2.485-.649-.906-1.79-.906-1.14 0-1.796.906-.649.899-.649 2.485 0 1.586.649 2.492.656.898 1.797.898 1.14 0 1.789-.898.656-.906.656-2.492zm-4.89-3.055q.452-.781 1.14-1.156.695-.383 1.656-.383 1.594 0 2.586 1.266 1 1.265 1 3.328 0 2.062-1 3.328-.992 1.266-2.586 1.266-.96 0-1.656-.375-.688-.383-1.14-1.164v1.312h-1.446V2.258h1.445z\" /></g><g fill=\"#e5e5e5\" stroke=\"#e5e5e5\" transform=\"translate(110, 0) scale(0.75, 0.75)\"><path d=\"M25.96 6v1.344q-.608-.336-1.226-.5-.609-.172-1.234-.172-1.398 0-2.172.89-.773.883-.773 2.485 0 1.601.773 2.492.774.883 2.172.883.625 0 1.234-.164.618-.172 1.227-.508v1.328q-.602.281-1.25.422-.64.14-1.367.14-1.977 0-3.14-1.242-1.165-1.242-1.165-3.351 0-2.14 1.172-3.367 1.18-1.227 3.227-1.227.664 0 1.296.14.633.134 1.227.407z\" /></g><g fill=\"#e5e5e5\" stroke=\"#e5e5e5\" transform=\"translate(110, 375) scale(0.75, 0.75)\"><path d=\"M25.96 6v1.344q-.608-.336-1.226-.5-.609-.172-1.234-.172-1.398 0-2.172.89-.773.883-.773 2.485 0 1.601.773 2.492.774.883 2.172.883.625 0 1.234-.164.618-.172 1.227-.508v1.328q-.602.281-1.25.422-.64.14-1.367.14-1.977 0-3.14-1.242-1.165-1.242-1.165-3.351 0-2.14 1.172-3.367 1.18-1.227 3.227-1.227.664 0 1.296.14.633.134 1.227.407z\" /></g><g fill=\"#e5e5e5\" stroke=\"#e5e5e5\" transform=\"translate(155, 0) scale(0.75, 0.75)\"><path d=\"M24.973 6.992V2.258h1.437v12.156h-1.437v-1.312q-.453.78-1.149 1.164-.687.375-1.656.375-1.586 0-2.586-1.266-.992-1.266-.992-3.328 0-2.063.992-3.328 1-1.266 2.586-1.266.969 0 1.656.383.696.375 1.149 1.156zm-4.899 3.055q0 1.586.649 2.492.656.898 1.797.898 1.14 0 1.796-.898.657-.906.657-2.492 0-1.586-.657-2.485-.656-.906-1.796-.906-1.141 0-1.797.906-.649.899-.649 2.485z\" /></g><g fill=\"#e5e5e5\" stroke=\"#e5e5e5\" transform=\"translate(155, 375) scale(0.75, 0.75)\"><path d=\"M24.973 6.992V2.258h1.437v12.156h-1.437v-1.312q-.453.78-1.149 1.164-.687.375-1.656.375-1.586 0-2.586-1.266-.992-1.266-.992-3.328 0-2.063.992-3.328 1-1.266 2.586-1.266.969 0 1.656.383.696.375 1.149 1.156zm-4.899 3.055q0 1.586.649 2.492.656.898 1.797.898 1.14 0 1.796-.898.657-.906.657-2.492 0-1.586-.657-2.485-.656-.906-1.796-.906-1.141 0-1.797.906-.649.899-.649 2.485z\" /></g><g fill=\"#e5e5e5\" stroke=\"#e5e5e5\" transform=\"translate(200, 0) scale(0.75, 0.75)\"><path d=\"M26.555 9.68v.703h-6.61q.094 1.484.89 2.265.806.774 2.235.774.828 0 1.602-.203.781-.203 1.547-.61v1.36q-.774.328-1.586.5-.813.172-1.649.172-2.093 0-3.32-1.22-1.219-1.218-1.219-3.296 0-2.148 1.157-3.406 1.164-1.266 3.132-1.266 1.766 0 2.79 1.14 1.03 1.134 1.03 3.087zm-1.438-.422q-.015-1.18-.664-1.883-.64-.703-1.703-.703-1.203 0-1.93.68-.718.68-.828 1.914z\" /></g><g fill=\"#e5e5e5\" stroke=\"#e5e5e5\" transform=\"translate(200, 375) scale(0.75, 0.75)\"><path d=\"M26.555 9.68v.703h-6.61q.094 1.484.89 2.265.806.774 2.235.774.828 0 1.602-.203.781-.203 1.547-.61v1.36q-.774.328-1.586.5-.813.172-1.649.172-2.093 0-3.32-1.22-1.219-1.218-1.219-3.296 0-2.148 1.157-3.406 1.164-1.266 3.132-1.266 1.766 0 2.79 1.14 1.03 1.134 1.03 3.087zm-1.438-.422q-.015-1.18-.664-1.883-.64-.703-1.703-.703-1.203 0-1.93.68-.718.68-.828 1.914z\" /></g><g fill=\"#e5e5e5\" stroke=\"#e5e5e5\" transform=\"translate(245, 0) scale(0.75, 0.75)\"><path d=\"M25.285 2.258v1.195H23.91q-.773 0-1.078.313-.297.312-.297 1.125v.773h2.367v1.117h-2.367v7.633H21.09V6.781h-1.375V5.664h1.375v-.61q0-1.46.68-2.124.68-.672 2.156-.672z\" /></g><g fill=\"#e5e5e5\" stroke=\"#e5e5e5\" transform=\"translate(245, 375) scale(0.75, 0.75)\"><path d=\"M25.285 2.258v1.195H23.91q-.773 0-1.078.313-.297.312-.297 1.125v.773h2.367v1.117h-2.367v7.633H21.09V6.781h-1.375V5.664h1.375v-.61q0-1.46.68-2.124.68-.672 2.156-.672z\" /></g><g fill=\"#e5e5e5\" stroke=\"#e5e5e5\" transform=\"translate(290, 0) scale(0.75, 0.75)\"><path d=\"M24.973 9.937q0-1.562-.649-2.421-.64-.86-1.804-.86-1.157 0-1.805.86-.64.859-.64 2.421 0 1.555.64 2.415.648.859 1.805.859 1.164 0 1.804-.86.649-.859.649-2.414zm1.437 3.391q0 2.234-.992 3.32-.992 1.094-3.04 1.094-.757 0-1.429-.117-.672-.11-1.304-.344v-1.398q.632.344 1.25.508.617.164 1.257.164 1.414 0 2.118-.743.703-.734.703-2.226v-.711q-.446.773-1.141 1.156-.695.383-1.664.383-1.61 0-2.594-1.227-.984-1.226-.984-3.25 0-2.03.984-3.257.985-1.227 2.594-1.227.969 0 1.664.383t1.14 1.156V5.664h1.438z\" /></g><g fill=\"#e5e5e5\" stroke=\"#e5e5e5\" transform=\"translate(290, 375) scale(0.75, 0.75)\"><path d=\"M24.973 9.937q0-1.562-.649-2.421-.64-.86-1.804-.86-1.157 0-1.805.86-.64.859-.64 2.421 0 1.555.64 2.415.648.859 1.805.859 1.164 0 1.804-.86.649-.859.649-2.414zm1.437 3.391q0 2.234-.992 3.32-.992 1.094-3.04 1.094-.757 0-1.429-.117-.672-.11-1.304-.344v-1.398q.632.344 1.25.508.617.164 1.257.164 1.414 0 2.118-.743.703-.734.703-2.226v-.711q-.446.773-1.141 1.156-.695.383-1.664.383-1.61 0-2.594-1.227-.984-1.226-.984-3.25 0-2.03.984-3.257.985-1.227 2.594-1.227.969 0 1.664.383t1.14 1.156V5.664h1.438z\" /></g><g fill=\"#e5e5e5\" stroke=\"#e5e5e5\" transform=\"translate(335, 0) scale(0.75, 0.75)\"><path d=\"M26.164 9.133v5.281h-1.437V9.18q0-1.243-.485-1.86-.484-.617-1.453-.617-1.164 0-1.836.742-.672.742-.672 2.024v4.945h-1.445V2.258h1.445v4.765q.516-.789 1.211-1.18.703-.39 1.617-.39 1.508 0 2.282.938.773.93.773 2.742z\" /></g><g fill=\"#e5e5e5\" stroke=\"#e5e5e5\" transform=\"translate(335, 375) scale(0.75, 0.75)\"><path d=\"M26.164 9.133v5.281h-1.437V9.18q0-1.243-.485-1.86-.484-.617-1.453-.617-1.164 0-1.836.742-.672.742-.672 2.024v4.945h-1.445V2.258h1.445v4.765q.516-.789 1.211-1.18.703-.39 1.617-.39 1.508 0 2.282.938.773.93.773 2.742z\" /></g><g fill=\"#e5e5e5\" stroke=\"#e5e5e5\" transform=\"translate(0, 335) scale(0.75, 0.75)\"><path d=\"M6.754 26.996h2.578v-8.898l-2.805.562v-1.437l2.79-.563h1.578v10.336h2.578v1.328h-6.72z\" /></g><g fill=\"#e5e5e5\" stroke=\"#e5e5e5\" transform=\"translate(375, 335) scale(0.75, 0.75)\"><path d=\"M6.754 26.996h2.578v-8.898l-2.805.562v-1.437l2.79-.563h1.578v10.336h2.578v1.328h-6.72z\" /></g><g fill=\"#e5e5e5\" stroke=\"#e5e5e5\" transform=\"translate(0, 290) scale(0.75, 0.75)\"><path d=\"M8.195 26.996h5.508v1.328H6.297v-1.328q.898-.93 2.445-2.492 1.555-1.57 1.953-2.024.758-.851 1.055-1.437.305-.594.305-1.164 0-.93-.657-1.516-.648-.586-1.695-.586-.742 0-1.57.258-.82.258-1.758.781v-1.593q.953-.383 1.781-.578.828-.196 1.516-.196 1.812 0 2.89.906 1.079.907 1.079 2.422 0 .72-.274 1.368-.265.64-.976 1.515-.196.227-1.243 1.313-1.046 1.078-2.953 3.023z\" /></g><g fill=\"#e5e5e5\" stroke=\"#e5e5e5\" transform=\"translate(375, 290) scale(0.75, 0.75)\"><path d=\"M8.195 26.996h5.508v1.328H6.297v-1.328q.898-.93 2.445-2.492 1.555-1.57 1.953-2.024.758-.851 1.055-1.437.305-.594.305-1.164 0-.93-.657-1.516-.648-.586-1.695-.586-.742 0-1.57.258-.82.258-1.758.781v-1.593q.953-.383 1.781-.578.828-.196 1.516-.196 1.812 0 2.89.906 1.079.907 1.079 2.422 0 .72-.274 1.368-.265.64-.976 1.515-.196.227-1.243 1.313-1.046 1.078-2.953 3.023z\" /></g><g fill=\"#e5e5e5\" stroke=\"#e5e5e5\" transform=\"translate(0, 245) scale(0.75, 0.75)\"><path d=\"M11.434 22.035q1.132.242 1.765 1.008.64.766.64 1.89 0 1.727-1.187 2.672-1.187.946-3.375.946-.734 0-1.515-.149-.774-.14-1.602-.43V26.45q.656.383 1.438.578.78.196 1.632.196 1.485 0 2.258-.586.782-.586.782-1.703 0-1.032-.727-1.61-.719-.586-2.008-.586h-1.36v-1.297h1.423q1.164 0 1.78-.46.618-.47.618-1.344 0-.899-.64-1.375-.633-.485-1.82-.485-.65 0-1.391.141-.743.14-1.633.437V16.95q.898-.25 1.68-.375.788-.125 1.484-.125 1.797 0 2.844.82 1.046.813 1.046 2.204 0 .968-.554 1.64-.555.664-1.578.922z\" /></g><g fill=\"#e5e5e5\" stroke=\"#e5e5e5\" transform=\"translate(375, 245) scale(0.75, 0.75)\"><path d=\"M11.434 22.035q1.132.242 1.765 1.008.64.766.64 1.89 0 1.727-1.187 2.672-1.187.946-3.375.946-.734 0-1.515-.149-.774-.14-1.602-.43V26.45q.656.383 1.438.578.78.196 1.632.196 1.485 0 2.258-.586.782-.586.782-1.703 0-1.032-.727-1.61-.719-.586-2.008-.586h-1.36v-1.297h1.423q1.164 0 1.78-.46.618-.47.618-1.344 0-.899-.64-1.375-.633-.485-1.82-.485-.65 0-1.391.141-.743.14-1.633.437V16.95q.898-.25 1.68-.375.788-.125 1.484-.125 1.797 0 2.844.82 1.046.813 1.046 2.204 0 .968-.554 1.64-.555.664-1.578.922z\" /></g><g fill=\"#e5e5e5\" stroke=\"#e5e5e5\" transform=\"translate(0, 200) scale(0.75, 0.75)\"><path d=\"M11.016 18.035L7.03 24.262h3.985zm-.414-1.375h1.984v7.602h1.664v1.312h-1.664v2.75h-1.57v-2.75H5.75v-1.523z\" /></g><g fill=\"#e5e5e5\" stroke=\"#e5e5e5\" transform=\"translate(375, 200) scale(0.75, 0.75)\"><path d=\"M11.016 18.035L7.03 24.262h3.985zm-.414-1.375h1.984v7.602h1.664v1.312h-1.664v2.75h-1.57v-2.75H5.75v-1.523z\" /></g><g fill=\"#e5e5e5\" stroke=\"#e5e5e5\" transform=\"translate(0, 155) scale(0.75, 0.75)\"><path d=\"M6.719 16.66h6.195v1.328h-4.75v2.86q.344-.118.688-.172.343-.063.687-.063 1.953 0 3.094 1.07 1.14 1.07 1.14 2.899 0 1.883-1.171 2.93-1.172 1.039-3.305 1.039-.735 0-1.5-.125-.758-.125-1.57-.375v-1.586q.703.383 1.453.57.75.188 1.586.188 1.351 0 2.14-.711.79-.711.79-1.93 0-1.219-.79-1.93-.789-.71-2.14-.71-.633 0-1.266.14-.625.14-1.281.438z\" /></g><g fill=\"#e5e5e5\" stroke=\"#e5e5e5\" transform=\"translate(375, 155) scale(0.75, 0.75)\"><path d=\"M6.719 16.66h6.195v1.328h-4.75v2.86q.344-.118.688-.172.343-.063.687-.063 1.953 0 3.094 1.07 1.14 1.07 1.14 2.899 0 1.883-1.171 2.93-1.172 1.039-3.305 1.039-.735 0-1.5-.125-.758-.125-1.57-.375v-1.586q.703.383 1.453.57.75.188 1.586.188 1.351 0 2.14-.711.79-.711.79-1.93 0-1.219-.79-1.93-.789-.71-2.14-.71-.633 0-1.266.14-.625.14-1.281.438z\" /></g><g fill=\"#e5e5e5\" stroke=\"#e5e5e5\" transform=\"translate(0, 110) scale(0.75, 0.75)\"><path d=\"M10.137 21.863q-1.063 0-1.688.727-.617.726-.617 1.992 0 1.258.617 1.992.625.727 1.688.727 1.062 0 1.68-.727.624-.734.624-1.992 0-1.266-.625-1.992-.617-.727-1.68-.727zm3.133-4.945v1.437q-.594-.28-1.204-.43-.601-.148-1.195-.148-1.562 0-2.39 1.055-.82 1.055-.938 3.188.46-.68 1.156-1.04.696-.367 1.531-.367 1.758 0 2.774 1.07 1.023 1.063 1.023 2.899 0 1.797-1.062 2.883-1.063 1.086-2.828 1.086-2.024 0-3.094-1.547-1.07-1.555-1.07-4.5 0-2.766 1.312-4.406 1.313-1.649 3.524-1.649.593 0 1.195.117.61.118 1.266.352z\" /></g><g fill=\"#e5e5e5\" stroke=\"#e5e5e5\" transform=\"translate(375, 110) scale(0.75, 0.75)\"><path d=\"M10.137 21.863q-1.063 0-1.688.727-.617.726-.617 1.992 0 1.258.617 1.992.625.727 1.688.727 1.062 0 1.68-.727.624-.734.624-1.992 0-1.266-.625-1.992-.617-.727-1.68-.727zm3.133-4.945v1.437q-.594-.28-1.204-.43-.601-.148-1.195-.148-1.562 0-2.39 1.055-.82 1.055-.938 3.188.46-.68 1.156-1.04.696-.367 1.531-.367 1.758 0 2.774 1.07 1.023 1.063 1.023 2.899 0 1.797-1.062 2.883-1.063 1.086-2.828 1.086-2.024 0-3.094-1.547-1.07-1.555-1.07-4.5 0-2.766 1.312-4.406 1.313-1.649 3.524-1.649.593 0 1.195.117.61.118 1.266.352z\" /></g><g fill=\"#e5e5e5\" stroke=\"#e5e5e5\" transform=\"translate(0, 65) scale(0.75, 0.75)\"><path d=\"M6.25 16.66h7.5v.672L9.516 28.324H7.867l3.985-10.336H6.25z\" /></g><g fill=\"#e5e5e5\" stroke=\"#e5e5e5\" transform=\"translate(375, 65) scale(0.75, 0.75)\"><path d=\"M6.25 16.66h7.5v.672L9.516 28.324H7.867l3.985-10.336H6.25z\" /></g><g fill=\"#e5e5e5\" stroke=\"#e5e5e5\" transform=\"translate(0, 20) scale(0.75, 0.75)\"><path d=\"M10 22.785q-1.125 0-1.773.602-.641.601-.641 1.656t.64 1.656q.649.602 1.774.602t1.773-.602q.649-.61.649-1.656 0-1.055-.649-1.656-.64-.602-1.773-.602zm-1.578-.672q-1.016-.25-1.586-.945-.563-.695-.563-1.695 0-1.399.993-2.211 1-.813 2.734-.813 1.742 0 2.734.813.993.812.993 2.21 0 1-.57 1.696-.563.695-1.571.945 1.14.266 1.773 1.04.641.773.641 1.89 0 1.695-1.04 2.602-1.03.906-2.96.906t-2.969-.906Q6 26.738 6 25.043q0-1.117.64-1.89.641-.774 1.782-1.04zm-.578-2.492q0 .906.562 1.414.57.508 1.594.508 1.016 0 1.586-.508.578-.508.578-1.414 0-.906-.578-1.414-.57-.508-1.586-.508-1.023 0-1.594.508-.562.508-.562 1.414z\" /></g><g fill=\"#e5e5e5\" stroke=\"#e5e5e5\" transform=\"translate(375, 20) scale(0.75, 0.75)\"><path d=\"M10 22.785q-1.125 0-1.773.602-.641.601-.641 1.656t.64 1.656q.649.602 1.774.602t1.773-.602q.649-.61.649-1.656 0-1.055-.649-1.656-.64-.602-1.773-.602zm-1.578-.672q-1.016-.25-1.586-.945-.563-.695-.563-1.695 0-1.399.993-2.211 1-.813 2.734-.813 1.742 0 2.734.813.993.812.993 2.21 0 1-.57 1.696-.563.695-1.571.945 1.14.266 1.773 1.04.641.773.641 1.89 0 1.695-1.04 2.602-1.03.906-2.96.906t-2.969-.906Q6 26.738 6 25.043q0-1.117.64-1.89.641-.774 1.782-1.04zm-.578-2.492q0 .906.562 1.414.57.508 1.594.508 1.016 0 1.586-.508.578-.508.578-1.414 0-.906-.578-1.414-.57-.508-1.586-.508-1.023 0-1.594.508-.562.508-.562 1.414z\" /></g><rect class=\"square dark a1\" fill=\"#d18b47\" height=\"45\" stroke=\"none\" width=\"45\" x=\"15\" y=\"330\" /><rect class=\"square light b1\" fill=\"#ffce9e\" height=\"45\" stroke=\"none\" width=\"45\" x=\"60\" y=\"330\" /><rect class=\"square dark c1\" fill=\"#d18b47\" height=\"45\" stroke=\"none\" width=\"45\" x=\"105\" y=\"330\" /><rect class=\"square light d1\" fill=\"#ffce9e\" height=\"45\" stroke=\"none\" width=\"45\" x=\"150\" y=\"330\" /><rect class=\"square dark e1\" fill=\"#d18b47\" height=\"45\" stroke=\"none\" width=\"45\" x=\"195\" y=\"330\" /><rect class=\"square light f1\" fill=\"#ffce9e\" height=\"45\" stroke=\"none\" width=\"45\" x=\"240\" y=\"330\" /><rect class=\"square dark g1\" fill=\"#d18b47\" height=\"45\" stroke=\"none\" width=\"45\" x=\"285\" y=\"330\" /><rect class=\"square light h1\" fill=\"#ffce9e\" height=\"45\" stroke=\"none\" width=\"45\" x=\"330\" y=\"330\" /><rect class=\"square light a2\" fill=\"#ffce9e\" height=\"45\" stroke=\"none\" width=\"45\" x=\"15\" y=\"285\" /><rect class=\"square dark b2\" fill=\"#d18b47\" height=\"45\" stroke=\"none\" width=\"45\" x=\"60\" y=\"285\" /><rect class=\"square light c2\" fill=\"#ffce9e\" height=\"45\" stroke=\"none\" width=\"45\" x=\"105\" y=\"285\" /><rect class=\"square dark d2\" fill=\"#d18b47\" height=\"45\" stroke=\"none\" width=\"45\" x=\"150\" y=\"285\" /><rect class=\"square light e2\" fill=\"#ffce9e\" height=\"45\" stroke=\"none\" width=\"45\" x=\"195\" y=\"285\" /><rect class=\"square dark f2\" fill=\"#d18b47\" height=\"45\" stroke=\"none\" width=\"45\" x=\"240\" y=\"285\" /><rect class=\"square light g2\" fill=\"#ffce9e\" height=\"45\" stroke=\"none\" width=\"45\" x=\"285\" y=\"285\" /><rect class=\"square dark h2\" fill=\"#d18b47\" height=\"45\" stroke=\"none\" width=\"45\" x=\"330\" y=\"285\" /><rect class=\"square dark a3\" fill=\"#d18b47\" height=\"45\" stroke=\"none\" width=\"45\" x=\"15\" y=\"240\" /><rect class=\"square light b3\" fill=\"#ffce9e\" height=\"45\" stroke=\"none\" width=\"45\" x=\"60\" y=\"240\" /><rect class=\"square dark c3\" fill=\"#d18b47\" height=\"45\" stroke=\"none\" width=\"45\" x=\"105\" y=\"240\" /><rect class=\"square light d3\" fill=\"#ffce9e\" height=\"45\" stroke=\"none\" width=\"45\" x=\"150\" y=\"240\" /><rect class=\"square dark e3\" fill=\"#d18b47\" height=\"45\" stroke=\"none\" width=\"45\" x=\"195\" y=\"240\" /><rect class=\"square light f3\" fill=\"#ffce9e\" height=\"45\" stroke=\"none\" width=\"45\" x=\"240\" y=\"240\" /><rect class=\"square dark g3\" fill=\"#d18b47\" height=\"45\" stroke=\"none\" width=\"45\" x=\"285\" y=\"240\" /><rect class=\"square light h3\" fill=\"#ffce9e\" height=\"45\" stroke=\"none\" width=\"45\" x=\"330\" y=\"240\" /><rect class=\"square light a4\" fill=\"#ffce9e\" height=\"45\" stroke=\"none\" width=\"45\" x=\"15\" y=\"195\" /><rect class=\"square dark b4\" fill=\"#d18b47\" height=\"45\" stroke=\"none\" width=\"45\" x=\"60\" y=\"195\" /><rect class=\"square light c4\" fill=\"#ffce9e\" height=\"45\" stroke=\"none\" width=\"45\" x=\"105\" y=\"195\" /><rect class=\"square dark d4\" fill=\"#d18b47\" height=\"45\" stroke=\"none\" width=\"45\" x=\"150\" y=\"195\" /><rect class=\"square light e4\" fill=\"#ffce9e\" height=\"45\" stroke=\"none\" width=\"45\" x=\"195\" y=\"195\" /><rect class=\"square dark f4\" fill=\"#d18b47\" height=\"45\" stroke=\"none\" width=\"45\" x=\"240\" y=\"195\" /><rect class=\"square light g4\" fill=\"#ffce9e\" height=\"45\" stroke=\"none\" width=\"45\" x=\"285\" y=\"195\" /><rect class=\"square dark h4\" fill=\"#d18b47\" height=\"45\" stroke=\"none\" width=\"45\" x=\"330\" y=\"195\" /><rect class=\"square dark a5\" fill=\"#d18b47\" height=\"45\" stroke=\"none\" width=\"45\" x=\"15\" y=\"150\" /><rect class=\"square light b5\" fill=\"#ffce9e\" height=\"45\" stroke=\"none\" width=\"45\" x=\"60\" y=\"150\" /><rect class=\"square dark c5\" fill=\"#d18b47\" height=\"45\" stroke=\"none\" width=\"45\" x=\"105\" y=\"150\" /><rect class=\"square light d5\" fill=\"#ffce9e\" height=\"45\" stroke=\"none\" width=\"45\" x=\"150\" y=\"150\" /><rect class=\"square dark e5\" fill=\"#d18b47\" height=\"45\" stroke=\"none\" width=\"45\" x=\"195\" y=\"150\" /><rect class=\"square light f5\" fill=\"#ffce9e\" height=\"45\" stroke=\"none\" width=\"45\" x=\"240\" y=\"150\" /><rect class=\"square dark g5\" fill=\"#d18b47\" height=\"45\" stroke=\"none\" width=\"45\" x=\"285\" y=\"150\" /><rect class=\"square light h5\" fill=\"#ffce9e\" height=\"45\" stroke=\"none\" width=\"45\" x=\"330\" y=\"150\" /><rect class=\"square light a6\" fill=\"#ffce9e\" height=\"45\" stroke=\"none\" width=\"45\" x=\"15\" y=\"105\" /><rect class=\"square dark b6\" fill=\"#d18b47\" height=\"45\" stroke=\"none\" width=\"45\" x=\"60\" y=\"105\" /><rect class=\"square light c6\" fill=\"#ffce9e\" height=\"45\" stroke=\"none\" width=\"45\" x=\"105\" y=\"105\" /><rect class=\"square dark d6\" fill=\"#d18b47\" height=\"45\" stroke=\"none\" width=\"45\" x=\"150\" y=\"105\" /><rect class=\"square light e6\" fill=\"#ffce9e\" height=\"45\" stroke=\"none\" width=\"45\" x=\"195\" y=\"105\" /><rect class=\"square dark f6\" fill=\"#d18b47\" height=\"45\" stroke=\"none\" width=\"45\" x=\"240\" y=\"105\" /><rect class=\"square light g6\" fill=\"#ffce9e\" height=\"45\" stroke=\"none\" width=\"45\" x=\"285\" y=\"105\" /><rect class=\"square dark h6\" fill=\"#d18b47\" height=\"45\" stroke=\"none\" width=\"45\" x=\"330\" y=\"105\" /><rect class=\"square dark a7\" fill=\"#d18b47\" height=\"45\" stroke=\"none\" width=\"45\" x=\"15\" y=\"60\" /><rect class=\"square light b7\" fill=\"#ffce9e\" height=\"45\" stroke=\"none\" width=\"45\" x=\"60\" y=\"60\" /><rect class=\"square dark c7\" fill=\"#d18b47\" height=\"45\" stroke=\"none\" width=\"45\" x=\"105\" y=\"60\" /><rect class=\"square light d7\" fill=\"#ffce9e\" height=\"45\" stroke=\"none\" width=\"45\" x=\"150\" y=\"60\" /><rect class=\"square dark e7\" fill=\"#d18b47\" height=\"45\" stroke=\"none\" width=\"45\" x=\"195\" y=\"60\" /><rect class=\"square light f7\" fill=\"#ffce9e\" height=\"45\" stroke=\"none\" width=\"45\" x=\"240\" y=\"60\" /><rect class=\"square dark g7\" fill=\"#d18b47\" height=\"45\" stroke=\"none\" width=\"45\" x=\"285\" y=\"60\" /><rect class=\"square light h7\" fill=\"#ffce9e\" height=\"45\" stroke=\"none\" width=\"45\" x=\"330\" y=\"60\" /><rect class=\"square light a8\" fill=\"#ffce9e\" height=\"45\" stroke=\"none\" width=\"45\" x=\"15\" y=\"15\" /><rect class=\"square dark b8\" fill=\"#d18b47\" height=\"45\" stroke=\"none\" width=\"45\" x=\"60\" y=\"15\" /><rect class=\"square light c8\" fill=\"#ffce9e\" height=\"45\" stroke=\"none\" width=\"45\" x=\"105\" y=\"15\" /><rect class=\"square dark d8\" fill=\"#d18b47\" height=\"45\" stroke=\"none\" width=\"45\" x=\"150\" y=\"15\" /><rect class=\"square light e8\" fill=\"#ffce9e\" height=\"45\" stroke=\"none\" width=\"45\" x=\"195\" y=\"15\" /><rect class=\"square dark f8\" fill=\"#d18b47\" height=\"45\" stroke=\"none\" width=\"45\" x=\"240\" y=\"15\" /><rect class=\"square light g8\" fill=\"#ffce9e\" height=\"45\" stroke=\"none\" width=\"45\" x=\"285\" y=\"15\" /><rect class=\"square dark h8\" fill=\"#d18b47\" height=\"45\" stroke=\"none\" width=\"45\" x=\"330\" y=\"15\" /><use href=\"#white-king\" transform=\"translate(105, 330)\" xlink:href=\"#white-king\" /><use href=\"#black-king\" transform=\"translate(105, 240)\" xlink:href=\"#black-king\" /><use href=\"#white-rook\" transform=\"translate(105, 150)\" xlink:href=\"#white-rook\" /></svg>"
          },
          "metadata": {}
        },
        {
          "output_type": "stream",
          "name": "stdout",
          "text": [
            "Class: fourteen\n"
          ]
        }
      ]
    },
    {
      "cell_type": "markdown",
      "source": [
        "##Reklamy"
      ],
      "metadata": {
        "id": "xjHfInAaOsRk"
      }
    },
    {
      "cell_type": "markdown",
      "source": [
        "Zestaw zawiera brakujące dane dotyczące rozmiarów niektórych obrazków, wypełniam nieznane wymiary jako zera."
      ],
      "metadata": {
        "id": "QIIX1Tty4K7L"
      }
    },
    {
      "cell_type": "code",
      "execution_count": null,
      "metadata": {
        "id": "YZZYWvu9NY9f"
      },
      "outputs": [],
      "source": [
        "# Zamiana informacji o tym czy rekord jest reklamą na 1 i 0\n",
        "ads_dataset = ads_dataset.replace(to_replace=\"ad.\",value=1)\n",
        "ads_dataset = ads_dataset.replace(to_replace=\"nonad.\",value=0)\n",
        "\n",
        "# Zamiana danych na typ numeryczny.\n",
        "ads_dataset = ads_dataset.apply(pd.to_numeric, errors='coerce')\n",
        "\n",
        "# Wypełnenie brakujących atrybutów rozmiaru obrazka zerami.\n",
        "ads_dataset = ads_dataset.fillna(0)"
      ]
    },
    {
      "cell_type": "markdown",
      "source": [
        "#### Wizualizacja"
      ],
      "metadata": {
        "id": "pE3jfLOh3fdz"
      }
    },
    {
      "cell_type": "markdown",
      "source": [
        "Przykładowe 5 rekordów z datasetu."
      ],
      "metadata": {
        "id": "GvbKsg8P4Mz6"
      }
    },
    {
      "cell_type": "code",
      "source": [
        "txt_file = open(\"names.txt\", \"r\")\n",
        "file_content = txt_file.read()\n",
        "content_list = file_content.split(\",\")\n",
        "txt_file.close()\n",
        "ads_dataset.columns = content_list\n",
        "ads_dataset.head()"
      ],
      "metadata": {
        "colab": {
          "base_uri": "https://localhost:8080/",
          "height": 300
        },
        "id": "j5JER-R3oWRw",
        "outputId": "03daa364-ed59-49fb-c2d2-e209bcf3df83"
      },
      "execution_count": null,
      "outputs": [
        {
          "output_type": "execute_result",
          "data": {
            "text/plain": [
              "   height  width  aratio  local  url*images+buttons  url*likesbooks.com  \\\n",
              "0   125.0  125.0  1.0000    1.0                   0                   0   \n",
              "1    57.0  468.0  8.2105    1.0                   0                   0   \n",
              "2    33.0  230.0  6.9696    1.0                   0                   0   \n",
              "3    60.0  468.0  7.8000    1.0                   0                   0   \n",
              "4    60.0  468.0  7.8000    1.0                   0                   0   \n",
              "\n",
              "   url*www.slake.com  url*hydrogeologist  url*oso  url*media  ...  \\\n",
              "0                  0                   0        0          0  ...   \n",
              "1                  0                   0        0          0  ...   \n",
              "2                  0                   0        0          0  ...   \n",
              "3                  0                   0        0          0  ...   \n",
              "4                  0                   0        0          0  ...   \n",
              "\n",
              "   caption*home  caption*my  caption*your  caption*in  caption*bytes  \\\n",
              "0             0           0             0           0              0   \n",
              "1             0           0             0           0              0   \n",
              "2             0           0             0           0              0   \n",
              "3             0           0             0           0              0   \n",
              "4             0           0             0           0              0   \n",
              "\n",
              "   caption*here  caption*click  caption*for  caption*you  isad\\n  \n",
              "0             0              0            0            0       1  \n",
              "1             0              0            0            0       1  \n",
              "2             0              0            0            0       1  \n",
              "3             0              0            0            0       1  \n",
              "4             0              0            0            0       1  \n",
              "\n",
              "[5 rows x 1559 columns]"
            ],
            "text/html": [
              "\n",
              "  <div id=\"df-2d5ef0a1-8392-41a7-908c-049a85a59db0\">\n",
              "    <div class=\"colab-df-container\">\n",
              "      <div>\n",
              "<style scoped>\n",
              "    .dataframe tbody tr th:only-of-type {\n",
              "        vertical-align: middle;\n",
              "    }\n",
              "\n",
              "    .dataframe tbody tr th {\n",
              "        vertical-align: top;\n",
              "    }\n",
              "\n",
              "    .dataframe thead th {\n",
              "        text-align: right;\n",
              "    }\n",
              "</style>\n",
              "<table border=\"1\" class=\"dataframe\">\n",
              "  <thead>\n",
              "    <tr style=\"text-align: right;\">\n",
              "      <th></th>\n",
              "      <th>height</th>\n",
              "      <th>width</th>\n",
              "      <th>aratio</th>\n",
              "      <th>local</th>\n",
              "      <th>url*images+buttons</th>\n",
              "      <th>url*likesbooks.com</th>\n",
              "      <th>url*www.slake.com</th>\n",
              "      <th>url*hydrogeologist</th>\n",
              "      <th>url*oso</th>\n",
              "      <th>url*media</th>\n",
              "      <th>...</th>\n",
              "      <th>caption*home</th>\n",
              "      <th>caption*my</th>\n",
              "      <th>caption*your</th>\n",
              "      <th>caption*in</th>\n",
              "      <th>caption*bytes</th>\n",
              "      <th>caption*here</th>\n",
              "      <th>caption*click</th>\n",
              "      <th>caption*for</th>\n",
              "      <th>caption*you</th>\n",
              "      <th>isad\\n</th>\n",
              "    </tr>\n",
              "  </thead>\n",
              "  <tbody>\n",
              "    <tr>\n",
              "      <th>0</th>\n",
              "      <td>125.0</td>\n",
              "      <td>125.0</td>\n",
              "      <td>1.0000</td>\n",
              "      <td>1.0</td>\n",
              "      <td>0</td>\n",
              "      <td>0</td>\n",
              "      <td>0</td>\n",
              "      <td>0</td>\n",
              "      <td>0</td>\n",
              "      <td>0</td>\n",
              "      <td>...</td>\n",
              "      <td>0</td>\n",
              "      <td>0</td>\n",
              "      <td>0</td>\n",
              "      <td>0</td>\n",
              "      <td>0</td>\n",
              "      <td>0</td>\n",
              "      <td>0</td>\n",
              "      <td>0</td>\n",
              "      <td>0</td>\n",
              "      <td>1</td>\n",
              "    </tr>\n",
              "    <tr>\n",
              "      <th>1</th>\n",
              "      <td>57.0</td>\n",
              "      <td>468.0</td>\n",
              "      <td>8.2105</td>\n",
              "      <td>1.0</td>\n",
              "      <td>0</td>\n",
              "      <td>0</td>\n",
              "      <td>0</td>\n",
              "      <td>0</td>\n",
              "      <td>0</td>\n",
              "      <td>0</td>\n",
              "      <td>...</td>\n",
              "      <td>0</td>\n",
              "      <td>0</td>\n",
              "      <td>0</td>\n",
              "      <td>0</td>\n",
              "      <td>0</td>\n",
              "      <td>0</td>\n",
              "      <td>0</td>\n",
              "      <td>0</td>\n",
              "      <td>0</td>\n",
              "      <td>1</td>\n",
              "    </tr>\n",
              "    <tr>\n",
              "      <th>2</th>\n",
              "      <td>33.0</td>\n",
              "      <td>230.0</td>\n",
              "      <td>6.9696</td>\n",
              "      <td>1.0</td>\n",
              "      <td>0</td>\n",
              "      <td>0</td>\n",
              "      <td>0</td>\n",
              "      <td>0</td>\n",
              "      <td>0</td>\n",
              "      <td>0</td>\n",
              "      <td>...</td>\n",
              "      <td>0</td>\n",
              "      <td>0</td>\n",
              "      <td>0</td>\n",
              "      <td>0</td>\n",
              "      <td>0</td>\n",
              "      <td>0</td>\n",
              "      <td>0</td>\n",
              "      <td>0</td>\n",
              "      <td>0</td>\n",
              "      <td>1</td>\n",
              "    </tr>\n",
              "    <tr>\n",
              "      <th>3</th>\n",
              "      <td>60.0</td>\n",
              "      <td>468.0</td>\n",
              "      <td>7.8000</td>\n",
              "      <td>1.0</td>\n",
              "      <td>0</td>\n",
              "      <td>0</td>\n",
              "      <td>0</td>\n",
              "      <td>0</td>\n",
              "      <td>0</td>\n",
              "      <td>0</td>\n",
              "      <td>...</td>\n",
              "      <td>0</td>\n",
              "      <td>0</td>\n",
              "      <td>0</td>\n",
              "      <td>0</td>\n",
              "      <td>0</td>\n",
              "      <td>0</td>\n",
              "      <td>0</td>\n",
              "      <td>0</td>\n",
              "      <td>0</td>\n",
              "      <td>1</td>\n",
              "    </tr>\n",
              "    <tr>\n",
              "      <th>4</th>\n",
              "      <td>60.0</td>\n",
              "      <td>468.0</td>\n",
              "      <td>7.8000</td>\n",
              "      <td>1.0</td>\n",
              "      <td>0</td>\n",
              "      <td>0</td>\n",
              "      <td>0</td>\n",
              "      <td>0</td>\n",
              "      <td>0</td>\n",
              "      <td>0</td>\n",
              "      <td>...</td>\n",
              "      <td>0</td>\n",
              "      <td>0</td>\n",
              "      <td>0</td>\n",
              "      <td>0</td>\n",
              "      <td>0</td>\n",
              "      <td>0</td>\n",
              "      <td>0</td>\n",
              "      <td>0</td>\n",
              "      <td>0</td>\n",
              "      <td>1</td>\n",
              "    </tr>\n",
              "  </tbody>\n",
              "</table>\n",
              "<p>5 rows × 1559 columns</p>\n",
              "</div>\n",
              "      <button class=\"colab-df-convert\" onclick=\"convertToInteractive('df-2d5ef0a1-8392-41a7-908c-049a85a59db0')\"\n",
              "              title=\"Convert this dataframe to an interactive table.\"\n",
              "              style=\"display:none;\">\n",
              "        \n",
              "  <svg xmlns=\"http://www.w3.org/2000/svg\" height=\"24px\"viewBox=\"0 0 24 24\"\n",
              "       width=\"24px\">\n",
              "    <path d=\"M0 0h24v24H0V0z\" fill=\"none\"/>\n",
              "    <path d=\"M18.56 5.44l.94 2.06.94-2.06 2.06-.94-2.06-.94-.94-2.06-.94 2.06-2.06.94zm-11 1L8.5 8.5l.94-2.06 2.06-.94-2.06-.94L8.5 2.5l-.94 2.06-2.06.94zm10 10l.94 2.06.94-2.06 2.06-.94-2.06-.94-.94-2.06-.94 2.06-2.06.94z\"/><path d=\"M17.41 7.96l-1.37-1.37c-.4-.4-.92-.59-1.43-.59-.52 0-1.04.2-1.43.59L10.3 9.45l-7.72 7.72c-.78.78-.78 2.05 0 2.83L4 21.41c.39.39.9.59 1.41.59.51 0 1.02-.2 1.41-.59l7.78-7.78 2.81-2.81c.8-.78.8-2.07 0-2.86zM5.41 20L4 18.59l7.72-7.72 1.47 1.35L5.41 20z\"/>\n",
              "  </svg>\n",
              "      </button>\n",
              "      \n",
              "  <style>\n",
              "    .colab-df-container {\n",
              "      display:flex;\n",
              "      flex-wrap:wrap;\n",
              "      gap: 12px;\n",
              "    }\n",
              "\n",
              "    .colab-df-convert {\n",
              "      background-color: #E8F0FE;\n",
              "      border: none;\n",
              "      border-radius: 50%;\n",
              "      cursor: pointer;\n",
              "      display: none;\n",
              "      fill: #1967D2;\n",
              "      height: 32px;\n",
              "      padding: 0 0 0 0;\n",
              "      width: 32px;\n",
              "    }\n",
              "\n",
              "    .colab-df-convert:hover {\n",
              "      background-color: #E2EBFA;\n",
              "      box-shadow: 0px 1px 2px rgba(60, 64, 67, 0.3), 0px 1px 3px 1px rgba(60, 64, 67, 0.15);\n",
              "      fill: #174EA6;\n",
              "    }\n",
              "\n",
              "    [theme=dark] .colab-df-convert {\n",
              "      background-color: #3B4455;\n",
              "      fill: #D2E3FC;\n",
              "    }\n",
              "\n",
              "    [theme=dark] .colab-df-convert:hover {\n",
              "      background-color: #434B5C;\n",
              "      box-shadow: 0px 1px 3px 1px rgba(0, 0, 0, 0.15);\n",
              "      filter: drop-shadow(0px 1px 2px rgba(0, 0, 0, 0.3));\n",
              "      fill: #FFFFFF;\n",
              "    }\n",
              "  </style>\n",
              "\n",
              "      <script>\n",
              "        const buttonEl =\n",
              "          document.querySelector('#df-2d5ef0a1-8392-41a7-908c-049a85a59db0 button.colab-df-convert');\n",
              "        buttonEl.style.display =\n",
              "          google.colab.kernel.accessAllowed ? 'block' : 'none';\n",
              "\n",
              "        async function convertToInteractive(key) {\n",
              "          const element = document.querySelector('#df-2d5ef0a1-8392-41a7-908c-049a85a59db0');\n",
              "          const dataTable =\n",
              "            await google.colab.kernel.invokeFunction('convertToInteractive',\n",
              "                                                     [key], {});\n",
              "          if (!dataTable) return;\n",
              "\n",
              "          const docLinkHtml = 'Like what you see? Visit the ' +\n",
              "            '<a target=\"_blank\" href=https://colab.research.google.com/notebooks/data_table.ipynb>data table notebook</a>'\n",
              "            + ' to learn more about interactive tables.';\n",
              "          element.innerHTML = '';\n",
              "          dataTable['output_type'] = 'display_data';\n",
              "          await google.colab.output.renderOutput(dataTable, element);\n",
              "          const docLink = document.createElement('div');\n",
              "          docLink.innerHTML = docLinkHtml;\n",
              "          element.appendChild(docLink);\n",
              "        }\n",
              "      </script>\n",
              "    </div>\n",
              "  </div>\n",
              "  "
            ]
          },
          "metadata": {},
          "execution_count": 5
        }
      ]
    },
    {
      "cell_type": "markdown",
      "source": [
        "Przykład rekordu który jest reklamą. Można zauważyć znaczące słowa takie jak np. 'ads', 'adclick', 'click here'."
      ],
      "metadata": {
        "id": "fg51sD2t4RNC"
      }
    },
    {
      "cell_type": "code",
      "source": [
        "pd.set_option('display.max_columns', None)\n",
        "example1 = ads_dataset.iloc[[55]]\n",
        "example1 = example1.loc[:, (example1 != 0).all()]\n",
        "example1.head()"
      ],
      "metadata": {
        "colab": {
          "base_uri": "https://localhost:8080/",
          "height": 162
        },
        "id": "2rCIhdzlxfjD",
        "outputId": "d26a228f-918f-4015-f247-9ae8a1defce8"
      },
      "execution_count": null,
      "outputs": [
        {
          "output_type": "execute_result",
          "data": {
            "text/plain": [
              "    height  width  aratio  local  url*go2net  url*images.go2net.com  \\\n",
              "55   125.0  125.0     1.0    1.0           1                      1   \n",
              "\n",
              "    url*go2net+ads  url*go2net.com  url*ads  origurl*target+ ion  \\\n",
              "55               1               1        1                    1   \n",
              "\n",
              "    origurl*0+rpp  origurl*target  origurl* ion+0  origurl*crawler  \\\n",
              "55              1               1               1                1   \n",
              "\n",
              "    origurl*timeout+5  origurl*kushmerick  origurl*5+hpe  origurl*rpp  \\\n",
              "55                  1                   1              1            1   \n",
              "\n",
              "    origurl*20+timeout  origurl*hpe  origurl*www.metacrawler.com  \\\n",
              "55                   1            1                            1   \n",
              "\n",
              "    origurl*metacrawler.com  origurl*general+kushmerick  origurl*timeout  \\\n",
              "55                        1                           1                1   \n",
              "\n",
              "    origurl*general  origurl*crawler+general  origurl*rpp+20  origurl*hpe+10  \\\n",
              "55                1                        1               1               1   \n",
              "\n",
              "    origurl*method  origurl*kushmerick+method  origurl*method+0  origurl* ion  \\\n",
              "55               1                          1                 1             1   \n",
              "\n",
              "    ancurl*2fcrawler  ancurl*adclick  ancurl*magic+adclick  \\\n",
              "55                 1               1                     1   \n",
              "\n",
              "    ancurl*plug.go2net.com  ancurl*gid  ancurl*qual  ancurl*delv  \\\n",
              "55                       1           1            1            1   \n",
              "\n",
              "    ancurl*qual+mc  ancurl*dir  ancurl*3a+2fcrawler  ancurl*magic  \\\n",
              "55               1           1                    1             1   \n",
              "\n",
              "    ancurl*go2net.com  ancurl*delv+dir  ancurl*dir+qual  ancurl*mc  ancurl*id  \\\n",
              "55                  1                1                1          1          1   \n",
              "\n",
              "    ancurl*3a  ancurl*adclick+id  ancurl*mc+3a  alt*here  alt*click+here  \\\n",
              "55          1                  1             1         1               1   \n",
              "\n",
              "    alt*to  alt*click  alt*here+to  isad\\n  \n",
              "55       1          1            1       1  "
            ],
            "text/html": [
              "\n",
              "  <div id=\"df-ce22d24d-963a-4f8a-82b3-a6200820cf18\">\n",
              "    <div class=\"colab-df-container\">\n",
              "      <div>\n",
              "<style scoped>\n",
              "    .dataframe tbody tr th:only-of-type {\n",
              "        vertical-align: middle;\n",
              "    }\n",
              "\n",
              "    .dataframe tbody tr th {\n",
              "        vertical-align: top;\n",
              "    }\n",
              "\n",
              "    .dataframe thead th {\n",
              "        text-align: right;\n",
              "    }\n",
              "</style>\n",
              "<table border=\"1\" class=\"dataframe\">\n",
              "  <thead>\n",
              "    <tr style=\"text-align: right;\">\n",
              "      <th></th>\n",
              "      <th>height</th>\n",
              "      <th>width</th>\n",
              "      <th>aratio</th>\n",
              "      <th>local</th>\n",
              "      <th>url*go2net</th>\n",
              "      <th>url*images.go2net.com</th>\n",
              "      <th>url*go2net+ads</th>\n",
              "      <th>url*go2net.com</th>\n",
              "      <th>url*ads</th>\n",
              "      <th>origurl*target+ ion</th>\n",
              "      <th>origurl*0+rpp</th>\n",
              "      <th>origurl*target</th>\n",
              "      <th>origurl* ion+0</th>\n",
              "      <th>origurl*crawler</th>\n",
              "      <th>origurl*timeout+5</th>\n",
              "      <th>origurl*kushmerick</th>\n",
              "      <th>origurl*5+hpe</th>\n",
              "      <th>origurl*rpp</th>\n",
              "      <th>origurl*20+timeout</th>\n",
              "      <th>origurl*hpe</th>\n",
              "      <th>origurl*www.metacrawler.com</th>\n",
              "      <th>origurl*metacrawler.com</th>\n",
              "      <th>origurl*general+kushmerick</th>\n",
              "      <th>origurl*timeout</th>\n",
              "      <th>origurl*general</th>\n",
              "      <th>origurl*crawler+general</th>\n",
              "      <th>origurl*rpp+20</th>\n",
              "      <th>origurl*hpe+10</th>\n",
              "      <th>origurl*method</th>\n",
              "      <th>origurl*kushmerick+method</th>\n",
              "      <th>origurl*method+0</th>\n",
              "      <th>origurl* ion</th>\n",
              "      <th>ancurl*2fcrawler</th>\n",
              "      <th>ancurl*adclick</th>\n",
              "      <th>ancurl*magic+adclick</th>\n",
              "      <th>ancurl*plug.go2net.com</th>\n",
              "      <th>ancurl*gid</th>\n",
              "      <th>ancurl*qual</th>\n",
              "      <th>ancurl*delv</th>\n",
              "      <th>ancurl*qual+mc</th>\n",
              "      <th>ancurl*dir</th>\n",
              "      <th>ancurl*3a+2fcrawler</th>\n",
              "      <th>ancurl*magic</th>\n",
              "      <th>ancurl*go2net.com</th>\n",
              "      <th>ancurl*delv+dir</th>\n",
              "      <th>ancurl*dir+qual</th>\n",
              "      <th>ancurl*mc</th>\n",
              "      <th>ancurl*id</th>\n",
              "      <th>ancurl*3a</th>\n",
              "      <th>ancurl*adclick+id</th>\n",
              "      <th>ancurl*mc+3a</th>\n",
              "      <th>alt*here</th>\n",
              "      <th>alt*click+here</th>\n",
              "      <th>alt*to</th>\n",
              "      <th>alt*click</th>\n",
              "      <th>alt*here+to</th>\n",
              "      <th>isad\\n</th>\n",
              "    </tr>\n",
              "  </thead>\n",
              "  <tbody>\n",
              "    <tr>\n",
              "      <th>55</th>\n",
              "      <td>125.0</td>\n",
              "      <td>125.0</td>\n",
              "      <td>1.0</td>\n",
              "      <td>1.0</td>\n",
              "      <td>1</td>\n",
              "      <td>1</td>\n",
              "      <td>1</td>\n",
              "      <td>1</td>\n",
              "      <td>1</td>\n",
              "      <td>1</td>\n",
              "      <td>1</td>\n",
              "      <td>1</td>\n",
              "      <td>1</td>\n",
              "      <td>1</td>\n",
              "      <td>1</td>\n",
              "      <td>1</td>\n",
              "      <td>1</td>\n",
              "      <td>1</td>\n",
              "      <td>1</td>\n",
              "      <td>1</td>\n",
              "      <td>1</td>\n",
              "      <td>1</td>\n",
              "      <td>1</td>\n",
              "      <td>1</td>\n",
              "      <td>1</td>\n",
              "      <td>1</td>\n",
              "      <td>1</td>\n",
              "      <td>1</td>\n",
              "      <td>1</td>\n",
              "      <td>1</td>\n",
              "      <td>1</td>\n",
              "      <td>1</td>\n",
              "      <td>1</td>\n",
              "      <td>1</td>\n",
              "      <td>1</td>\n",
              "      <td>1</td>\n",
              "      <td>1</td>\n",
              "      <td>1</td>\n",
              "      <td>1</td>\n",
              "      <td>1</td>\n",
              "      <td>1</td>\n",
              "      <td>1</td>\n",
              "      <td>1</td>\n",
              "      <td>1</td>\n",
              "      <td>1</td>\n",
              "      <td>1</td>\n",
              "      <td>1</td>\n",
              "      <td>1</td>\n",
              "      <td>1</td>\n",
              "      <td>1</td>\n",
              "      <td>1</td>\n",
              "      <td>1</td>\n",
              "      <td>1</td>\n",
              "      <td>1</td>\n",
              "      <td>1</td>\n",
              "      <td>1</td>\n",
              "      <td>1</td>\n",
              "    </tr>\n",
              "  </tbody>\n",
              "</table>\n",
              "</div>\n",
              "      <button class=\"colab-df-convert\" onclick=\"convertToInteractive('df-ce22d24d-963a-4f8a-82b3-a6200820cf18')\"\n",
              "              title=\"Convert this dataframe to an interactive table.\"\n",
              "              style=\"display:none;\">\n",
              "        \n",
              "  <svg xmlns=\"http://www.w3.org/2000/svg\" height=\"24px\"viewBox=\"0 0 24 24\"\n",
              "       width=\"24px\">\n",
              "    <path d=\"M0 0h24v24H0V0z\" fill=\"none\"/>\n",
              "    <path d=\"M18.56 5.44l.94 2.06.94-2.06 2.06-.94-2.06-.94-.94-2.06-.94 2.06-2.06.94zm-11 1L8.5 8.5l.94-2.06 2.06-.94-2.06-.94L8.5 2.5l-.94 2.06-2.06.94zm10 10l.94 2.06.94-2.06 2.06-.94-2.06-.94-.94-2.06-.94 2.06-2.06.94z\"/><path d=\"M17.41 7.96l-1.37-1.37c-.4-.4-.92-.59-1.43-.59-.52 0-1.04.2-1.43.59L10.3 9.45l-7.72 7.72c-.78.78-.78 2.05 0 2.83L4 21.41c.39.39.9.59 1.41.59.51 0 1.02-.2 1.41-.59l7.78-7.78 2.81-2.81c.8-.78.8-2.07 0-2.86zM5.41 20L4 18.59l7.72-7.72 1.47 1.35L5.41 20z\"/>\n",
              "  </svg>\n",
              "      </button>\n",
              "      \n",
              "  <style>\n",
              "    .colab-df-container {\n",
              "      display:flex;\n",
              "      flex-wrap:wrap;\n",
              "      gap: 12px;\n",
              "    }\n",
              "\n",
              "    .colab-df-convert {\n",
              "      background-color: #E8F0FE;\n",
              "      border: none;\n",
              "      border-radius: 50%;\n",
              "      cursor: pointer;\n",
              "      display: none;\n",
              "      fill: #1967D2;\n",
              "      height: 32px;\n",
              "      padding: 0 0 0 0;\n",
              "      width: 32px;\n",
              "    }\n",
              "\n",
              "    .colab-df-convert:hover {\n",
              "      background-color: #E2EBFA;\n",
              "      box-shadow: 0px 1px 2px rgba(60, 64, 67, 0.3), 0px 1px 3px 1px rgba(60, 64, 67, 0.15);\n",
              "      fill: #174EA6;\n",
              "    }\n",
              "\n",
              "    [theme=dark] .colab-df-convert {\n",
              "      background-color: #3B4455;\n",
              "      fill: #D2E3FC;\n",
              "    }\n",
              "\n",
              "    [theme=dark] .colab-df-convert:hover {\n",
              "      background-color: #434B5C;\n",
              "      box-shadow: 0px 1px 3px 1px rgba(0, 0, 0, 0.15);\n",
              "      filter: drop-shadow(0px 1px 2px rgba(0, 0, 0, 0.3));\n",
              "      fill: #FFFFFF;\n",
              "    }\n",
              "  </style>\n",
              "\n",
              "      <script>\n",
              "        const buttonEl =\n",
              "          document.querySelector('#df-ce22d24d-963a-4f8a-82b3-a6200820cf18 button.colab-df-convert');\n",
              "        buttonEl.style.display =\n",
              "          google.colab.kernel.accessAllowed ? 'block' : 'none';\n",
              "\n",
              "        async function convertToInteractive(key) {\n",
              "          const element = document.querySelector('#df-ce22d24d-963a-4f8a-82b3-a6200820cf18');\n",
              "          const dataTable =\n",
              "            await google.colab.kernel.invokeFunction('convertToInteractive',\n",
              "                                                     [key], {});\n",
              "          if (!dataTable) return;\n",
              "\n",
              "          const docLinkHtml = 'Like what you see? Visit the ' +\n",
              "            '<a target=\"_blank\" href=https://colab.research.google.com/notebooks/data_table.ipynb>data table notebook</a>'\n",
              "            + ' to learn more about interactive tables.';\n",
              "          element.innerHTML = '';\n",
              "          dataTable['output_type'] = 'display_data';\n",
              "          await google.colab.output.renderOutput(dataTable, element);\n",
              "          const docLink = document.createElement('div');\n",
              "          docLink.innerHTML = docLinkHtml;\n",
              "          element.appendChild(docLink);\n",
              "        }\n",
              "      </script>\n",
              "    </div>\n",
              "  </div>\n",
              "  "
            ]
          },
          "metadata": {},
          "execution_count": 6
        }
      ]
    },
    {
      "cell_type": "markdown",
      "source": [
        "Przykład rekordu, który nie jest reklamą."
      ],
      "metadata": {
        "id": "HCdzZyIV4ir7"
      }
    },
    {
      "cell_type": "code",
      "source": [
        "example2 = ads_dataset.iloc[[3200]]\n",
        "example2 = example2.loc[:, (example2 != 0).all()].join(example2.iloc[:,[-1]])\n",
        "example2.head()"
      ],
      "metadata": {
        "colab": {
          "base_uri": "https://localhost:8080/",
          "height": 145
        },
        "id": "Bl_HckSOzXaY",
        "outputId": "2002bd73-3cca-482c-b1ab-e204aa4071fc"
      },
      "execution_count": null,
      "outputs": [
        {
          "output_type": "execute_result",
          "data": {
            "text/plain": [
              "      height  width  aratio  url*catring1  url*catring1+gif  \\\n",
              "3200   128.0  178.0  1.3906             1                 1   \n",
              "\n",
              "      origurl*www.interchg.ubc.ca  origurl*ubc.ca  origurl*djang  \\\n",
              "3200                            1               1              1   \n",
              "\n",
              "      origurl*msheryl  origurl*msheryl+djang  origurl*djang+html  \\\n",
              "3200                1                      1                   1   \n",
              "\n",
              "      ancurl*webring.org  ancurl*next  ancurl*bin+webring  ancurl*ring  \\\n",
              "3200                   1            1                   1            1   \n",
              "\n",
              "      ancurl*www.webring.org  ancurl*webring+ring  ancurl*ring+midnight  \\\n",
              "3200                       1                    1                     1   \n",
              "\n",
              "      ancurl*midnight+id  ancurl*bin  ancurl*id  ancurl*webring  \\\n",
              "3200                   1           1          1               1   \n",
              "\n",
              "      ancurl*midnight  isad\\n  \n",
              "3200                1       0  "
            ],
            "text/html": [
              "\n",
              "  <div id=\"df-80b09919-0ecc-4bda-9b11-fee3c0035b3e\">\n",
              "    <div class=\"colab-df-container\">\n",
              "      <div>\n",
              "<style scoped>\n",
              "    .dataframe tbody tr th:only-of-type {\n",
              "        vertical-align: middle;\n",
              "    }\n",
              "\n",
              "    .dataframe tbody tr th {\n",
              "        vertical-align: top;\n",
              "    }\n",
              "\n",
              "    .dataframe thead th {\n",
              "        text-align: right;\n",
              "    }\n",
              "</style>\n",
              "<table border=\"1\" class=\"dataframe\">\n",
              "  <thead>\n",
              "    <tr style=\"text-align: right;\">\n",
              "      <th></th>\n",
              "      <th>height</th>\n",
              "      <th>width</th>\n",
              "      <th>aratio</th>\n",
              "      <th>url*catring1</th>\n",
              "      <th>url*catring1+gif</th>\n",
              "      <th>origurl*www.interchg.ubc.ca</th>\n",
              "      <th>origurl*ubc.ca</th>\n",
              "      <th>origurl*djang</th>\n",
              "      <th>origurl*msheryl</th>\n",
              "      <th>origurl*msheryl+djang</th>\n",
              "      <th>origurl*djang+html</th>\n",
              "      <th>ancurl*webring.org</th>\n",
              "      <th>ancurl*next</th>\n",
              "      <th>ancurl*bin+webring</th>\n",
              "      <th>ancurl*ring</th>\n",
              "      <th>ancurl*www.webring.org</th>\n",
              "      <th>ancurl*webring+ring</th>\n",
              "      <th>ancurl*ring+midnight</th>\n",
              "      <th>ancurl*midnight+id</th>\n",
              "      <th>ancurl*bin</th>\n",
              "      <th>ancurl*id</th>\n",
              "      <th>ancurl*webring</th>\n",
              "      <th>ancurl*midnight</th>\n",
              "      <th>isad\\n</th>\n",
              "    </tr>\n",
              "  </thead>\n",
              "  <tbody>\n",
              "    <tr>\n",
              "      <th>3200</th>\n",
              "      <td>128.0</td>\n",
              "      <td>178.0</td>\n",
              "      <td>1.3906</td>\n",
              "      <td>1</td>\n",
              "      <td>1</td>\n",
              "      <td>1</td>\n",
              "      <td>1</td>\n",
              "      <td>1</td>\n",
              "      <td>1</td>\n",
              "      <td>1</td>\n",
              "      <td>1</td>\n",
              "      <td>1</td>\n",
              "      <td>1</td>\n",
              "      <td>1</td>\n",
              "      <td>1</td>\n",
              "      <td>1</td>\n",
              "      <td>1</td>\n",
              "      <td>1</td>\n",
              "      <td>1</td>\n",
              "      <td>1</td>\n",
              "      <td>1</td>\n",
              "      <td>1</td>\n",
              "      <td>1</td>\n",
              "      <td>0</td>\n",
              "    </tr>\n",
              "  </tbody>\n",
              "</table>\n",
              "</div>\n",
              "      <button class=\"colab-df-convert\" onclick=\"convertToInteractive('df-80b09919-0ecc-4bda-9b11-fee3c0035b3e')\"\n",
              "              title=\"Convert this dataframe to an interactive table.\"\n",
              "              style=\"display:none;\">\n",
              "        \n",
              "  <svg xmlns=\"http://www.w3.org/2000/svg\" height=\"24px\"viewBox=\"0 0 24 24\"\n",
              "       width=\"24px\">\n",
              "    <path d=\"M0 0h24v24H0V0z\" fill=\"none\"/>\n",
              "    <path d=\"M18.56 5.44l.94 2.06.94-2.06 2.06-.94-2.06-.94-.94-2.06-.94 2.06-2.06.94zm-11 1L8.5 8.5l.94-2.06 2.06-.94-2.06-.94L8.5 2.5l-.94 2.06-2.06.94zm10 10l.94 2.06.94-2.06 2.06-.94-2.06-.94-.94-2.06-.94 2.06-2.06.94z\"/><path d=\"M17.41 7.96l-1.37-1.37c-.4-.4-.92-.59-1.43-.59-.52 0-1.04.2-1.43.59L10.3 9.45l-7.72 7.72c-.78.78-.78 2.05 0 2.83L4 21.41c.39.39.9.59 1.41.59.51 0 1.02-.2 1.41-.59l7.78-7.78 2.81-2.81c.8-.78.8-2.07 0-2.86zM5.41 20L4 18.59l7.72-7.72 1.47 1.35L5.41 20z\"/>\n",
              "  </svg>\n",
              "      </button>\n",
              "      \n",
              "  <style>\n",
              "    .colab-df-container {\n",
              "      display:flex;\n",
              "      flex-wrap:wrap;\n",
              "      gap: 12px;\n",
              "    }\n",
              "\n",
              "    .colab-df-convert {\n",
              "      background-color: #E8F0FE;\n",
              "      border: none;\n",
              "      border-radius: 50%;\n",
              "      cursor: pointer;\n",
              "      display: none;\n",
              "      fill: #1967D2;\n",
              "      height: 32px;\n",
              "      padding: 0 0 0 0;\n",
              "      width: 32px;\n",
              "    }\n",
              "\n",
              "    .colab-df-convert:hover {\n",
              "      background-color: #E2EBFA;\n",
              "      box-shadow: 0px 1px 2px rgba(60, 64, 67, 0.3), 0px 1px 3px 1px rgba(60, 64, 67, 0.15);\n",
              "      fill: #174EA6;\n",
              "    }\n",
              "\n",
              "    [theme=dark] .colab-df-convert {\n",
              "      background-color: #3B4455;\n",
              "      fill: #D2E3FC;\n",
              "    }\n",
              "\n",
              "    [theme=dark] .colab-df-convert:hover {\n",
              "      background-color: #434B5C;\n",
              "      box-shadow: 0px 1px 3px 1px rgba(0, 0, 0, 0.15);\n",
              "      filter: drop-shadow(0px 1px 2px rgba(0, 0, 0, 0.3));\n",
              "      fill: #FFFFFF;\n",
              "    }\n",
              "  </style>\n",
              "\n",
              "      <script>\n",
              "        const buttonEl =\n",
              "          document.querySelector('#df-80b09919-0ecc-4bda-9b11-fee3c0035b3e button.colab-df-convert');\n",
              "        buttonEl.style.display =\n",
              "          google.colab.kernel.accessAllowed ? 'block' : 'none';\n",
              "\n",
              "        async function convertToInteractive(key) {\n",
              "          const element = document.querySelector('#df-80b09919-0ecc-4bda-9b11-fee3c0035b3e');\n",
              "          const dataTable =\n",
              "            await google.colab.kernel.invokeFunction('convertToInteractive',\n",
              "                                                     [key], {});\n",
              "          if (!dataTable) return;\n",
              "\n",
              "          const docLinkHtml = 'Like what you see? Visit the ' +\n",
              "            '<a target=\"_blank\" href=https://colab.research.google.com/notebooks/data_table.ipynb>data table notebook</a>'\n",
              "            + ' to learn more about interactive tables.';\n",
              "          element.innerHTML = '';\n",
              "          dataTable['output_type'] = 'display_data';\n",
              "          await google.colab.output.renderOutput(dataTable, element);\n",
              "          const docLink = document.createElement('div');\n",
              "          docLink.innerHTML = docLinkHtml;\n",
              "          element.appendChild(docLink);\n",
              "        }\n",
              "      </script>\n",
              "    </div>\n",
              "  </div>\n",
              "  "
            ]
          },
          "metadata": {},
          "execution_count": 7
        }
      ]
    },
    {
      "cell_type": "markdown",
      "source": [
        "#Chess - FFNN"
      ],
      "metadata": {
        "id": "d5P-RBWJOxZo"
      }
    },
    {
      "cell_type": "markdown",
      "source": [
        "##Struktura sieci"
      ],
      "metadata": {
        "id": "7E6BbdxePLBx"
      }
    },
    {
      "cell_type": "markdown",
      "source": [
        "Przed skonstruowaniem sieci, normalizujemy dane i rozdzielamy na dane testowe i do uczenia.\n"
      ],
      "metadata": {
        "id": "mrCA6GqDJs4m"
      }
    },
    {
      "cell_type": "code",
      "source": [
        "#podziel dane na dane testowe i treningowe\n",
        "X_chess_train, X_chess_test, Y_chess_train, Y_chess_test = train_test_split(X_chess, Y_chess, test_size=0.20, random_state=31)\n",
        "\n",
        "#zmień klasy\n",
        "Y_chess_train=np_utils.to_categorical(Y_chess_train,num_classes=18)\n",
        "Y_chess_test=np_utils.to_categorical(Y_chess_test,num_classes=18)"
      ],
      "metadata": {
        "id": "6pJtmMJc0Yko"
      },
      "execution_count": null,
      "outputs": []
    },
    {
      "cell_type": "markdown",
      "source": [
        "Następnie konstruujemy model. Jako punkt odniesienia zastosowaliśmy przykład zaimplementowany w pokazanym przykładzie.\n",
        "\n"
      ],
      "metadata": {
        "id": "IxVHDLfeJ2V0"
      }
    },
    {
      "cell_type": "code",
      "source": [
        "# Initialising the ANN\n",
        "chess_model = Sequential()\n",
        "\n",
        "# Adding the input layer and the first hidden layer\n",
        "chess_model.add(Dense(1000,input_dim=48,activation='relu', kernel_initializer='ones', bias_initializer='zeros'))\n",
        "chess_model.add(Dense(50,activation='relu', kernel_initializer='ones', bias_initializer='zeros'))\n",
        "\n",
        "#Protects against overfitting\n",
        "chess_model.add(Dropout(0.2))\n",
        "\n",
        "# Adding the output layer\n",
        "chess_model.add(Dense(18,activation='softmax', kernel_initializer='ones', bias_initializer='zeros'))\n",
        "\n",
        "# Compiling the ANN\n",
        "chess_model.compile(loss='categorical_crossentropy',optimizer='adam',metrics=['accuracy'])"
      ],
      "metadata": {
        "id": "BsAlNIhAdRuP",
        "colab": {
          "base_uri": "https://localhost:8080/",
          "height": 246
        },
        "outputId": "89ea0543-0ab5-43ea-a73f-bfe3d19d6e41"
      },
      "execution_count": null,
      "outputs": [
        {
          "output_type": "error",
          "ename": "NameError",
          "evalue": "ignored",
          "traceback": [
            "\u001b[0;31m---------------------------------------------------------------------------\u001b[0m",
            "\u001b[0;31mNameError\u001b[0m                                 Traceback (most recent call last)",
            "\u001b[0;32m<ipython-input-1-10d8ecf3a6b5>\u001b[0m in \u001b[0;36m<module>\u001b[0;34m\u001b[0m\n\u001b[1;32m      1\u001b[0m \u001b[0;31m# Initialising the ANN\u001b[0m\u001b[0;34m\u001b[0m\u001b[0;34m\u001b[0m\u001b[0;34m\u001b[0m\u001b[0m\n\u001b[0;32m----> 2\u001b[0;31m \u001b[0mchess_model\u001b[0m \u001b[0;34m=\u001b[0m \u001b[0mSequential\u001b[0m\u001b[0;34m(\u001b[0m\u001b[0;34m)\u001b[0m\u001b[0;34m\u001b[0m\u001b[0;34m\u001b[0m\u001b[0m\n\u001b[0m\u001b[1;32m      3\u001b[0m \u001b[0;34m\u001b[0m\u001b[0m\n\u001b[1;32m      4\u001b[0m \u001b[0;31m# Adding the input layer and the first hidden layer\u001b[0m\u001b[0;34m\u001b[0m\u001b[0;34m\u001b[0m\u001b[0;34m\u001b[0m\u001b[0m\n\u001b[1;32m      5\u001b[0m \u001b[0mchess_model\u001b[0m\u001b[0;34m.\u001b[0m\u001b[0madd\u001b[0m\u001b[0;34m(\u001b[0m\u001b[0mDense\u001b[0m\u001b[0;34m(\u001b[0m\u001b[0;36m1000\u001b[0m\u001b[0;34m,\u001b[0m\u001b[0minput_dim\u001b[0m\u001b[0;34m=\u001b[0m\u001b[0;36m48\u001b[0m\u001b[0;34m,\u001b[0m\u001b[0mactivation\u001b[0m\u001b[0;34m=\u001b[0m\u001b[0;34m'relu'\u001b[0m\u001b[0;34m,\u001b[0m \u001b[0mkernel_initializer\u001b[0m\u001b[0;34m=\u001b[0m\u001b[0;34m'ones'\u001b[0m\u001b[0;34m,\u001b[0m \u001b[0mbias_initializer\u001b[0m\u001b[0;34m=\u001b[0m\u001b[0;34m'zeros'\u001b[0m\u001b[0;34m)\u001b[0m\u001b[0;34m)\u001b[0m\u001b[0;34m\u001b[0m\u001b[0;34m\u001b[0m\u001b[0m\n",
            "\u001b[0;31mNameError\u001b[0m: name 'Sequential' is not defined"
          ]
        }
      ]
    },
    {
      "cell_type": "markdown",
      "source": [
        "##Uczenie sie\n",
        "\n",
        "Następnie model poddaliśmy uczeniu sie. Na potrzeby raportu, liczba epochów została zmniejszona dla 10, lecz dalsze analizy modelów oraz dokładnie uczenie modelu zostały przeprowadzone dla 200-500 epochów."
      ],
      "metadata": {
        "id": "-wpXghYZPLRz"
      }
    },
    {
      "cell_type": "code",
      "source": [
        "chess_model.fit(X_chess_train,Y_chess_train,validation_data=(X_chess_test,Y_chess_test),batch_size=30,epochs=10,verbose=1, use_multiprocessing=1)"
      ],
      "metadata": {
        "id": "rJhI0FIfdQTK",
        "colab": {
          "base_uri": "https://localhost:8080/"
        },
        "outputId": "8f09019b-b5b0-4ca1-eabe-00c6385d5629"
      },
      "execution_count": null,
      "outputs": [
        {
          "output_type": "stream",
          "name": "stdout",
          "text": [
            "Epoch 1/10\n",
            "749/749 [==============================] - 5s 6ms/step - loss: 1.8027 - accuracy: 0.3517 - val_loss: 1.3582 - val_accuracy: 0.5050\n",
            "Epoch 2/10\n",
            "749/749 [==============================] - 3s 4ms/step - loss: 1.2198 - accuracy: 0.5396 - val_loss: 0.9693 - val_accuracy: 0.6411\n",
            "Epoch 3/10\n",
            "749/749 [==============================] - 3s 4ms/step - loss: 0.9352 - accuracy: 0.6369 - val_loss: 0.7863 - val_accuracy: 0.6981\n",
            "Epoch 4/10\n",
            "749/749 [==============================] - 3s 4ms/step - loss: 0.7945 - accuracy: 0.6903 - val_loss: 0.6900 - val_accuracy: 0.7398\n",
            "Epoch 5/10\n",
            "749/749 [==============================] - 3s 4ms/step - loss: 0.7035 - accuracy: 0.7280 - val_loss: 0.6572 - val_accuracy: 0.7488\n",
            "Epoch 6/10\n",
            "749/749 [==============================] - 3s 4ms/step - loss: 0.6323 - accuracy: 0.7560 - val_loss: 0.5983 - val_accuracy: 0.7664\n",
            "Epoch 7/10\n",
            "749/749 [==============================] - 3s 4ms/step - loss: 0.5807 - accuracy: 0.7727 - val_loss: 0.5730 - val_accuracy: 0.7737\n",
            "Epoch 8/10\n",
            "749/749 [==============================] - 3s 4ms/step - loss: 0.5343 - accuracy: 0.7946 - val_loss: 0.5335 - val_accuracy: 0.7963\n",
            "Epoch 9/10\n",
            "749/749 [==============================] - 3s 4ms/step - loss: 0.4876 - accuracy: 0.8118 - val_loss: 0.5096 - val_accuracy: 0.8033\n",
            "Epoch 10/10\n",
            "749/749 [==============================] - 3s 4ms/step - loss: 0.4527 - accuracy: 0.8257 - val_loss: 0.4810 - val_accuracy: 0.8147\n"
          ]
        },
        {
          "output_type": "execute_result",
          "data": {
            "text/plain": [
              "<keras.callbacks.History at 0x7f5d83e18a90>"
            ]
          },
          "metadata": {},
          "execution_count": 37
        }
      ]
    },
    {
      "cell_type": "markdown",
      "source": [
        "##Wyniki"
      ],
      "metadata": {
        "id": "k4OCEFqQPLfJ"
      }
    },
    {
      "cell_type": "code",
      "source": [
        "# Predicting the Test set results\n",
        "y_pred = chess_model.predict(X_chess_test)\n",
        "y_pred = (y_pred > 0.5)\n",
        "\n",
        "prediction=chess_model.predict(X_chess_test)\n",
        "length=len(prediction)\n",
        "y_label=np.argmax(Y_chess_test,axis=1)\n",
        "predict_label=np.argmax(prediction,axis=1)\n",
        "#how times it matched/ how many test cases\n",
        "accuracy=np.sum(y_label==predict_label)/length * 100 \n",
        "print(\"Accuracy of the dataset\",accuracy )"
      ],
      "metadata": {
        "id": "CKKFWukjdMIZ",
        "colab": {
          "base_uri": "https://localhost:8080/"
        },
        "outputId": "6c0e986c-5a6e-4d27-b1dc-8db31fd817f7"
      },
      "execution_count": null,
      "outputs": [
        {
          "output_type": "stream",
          "name": "stdout",
          "text": [
            "176/176 [==============================] - 0s 2ms/step\n",
            "176/176 [==============================] - 0s 2ms/step\n",
            "Accuracy of the dataset 81.46828225231646\n"
          ]
        }
      ]
    },
    {
      "cell_type": "markdown",
      "source": [
        "Analizując wyniki, doszliśmy do wniosku, że jest tutaj miejsce do ulepszeń, chociaż wyniki na tylko 10 epok są podejrzanie wysokie. Sam model był robiony do zupełnie innego problemu, co również może mieć wpływ na wyniki."
      ],
      "metadata": {
        "id": "7V0MSpOJLQv-"
      }
    },
    {
      "cell_type": "markdown",
      "source": [
        "##Dostrajanie\n",
        "\n",
        "Dodatkowe dostrajanie modelu opierało się na dwóch sposobach:\n",
        "\n",
        "\n",
        "1.   W modelu były zmieniane pojedyńcze parametry, takie jak funckja obliczania strat\n",
        "2.   Zestawiane były 2 modele z różnymi strukturami oraz funkcjami aktywacji, a następnie robiony był wykres wzrostu precyzji w zależności od liczby epochów. Model którego precyzja rosła szybciej lub miał większą precyzję dla tych samych danych był uznawany za lepszy.\n",
        "\n",
        "W przypadku drugiego punktu warto zwrócić uwagę na to, że za każdym razem dwa modele inicjalizują swoje wagi losowo, przez co wyniki końcowe mogą się dość różnić. Zamienienie inicjalizacji wag zerami i jedynkami, co by dało nam takie same wagi sprawia, że precyzja zmniejsza się drastycznie do ~15% pod koniec 10 epoki (wersja podstawowa ma powyżej 80% w tej epoce).\n",
        "\n",
        "\n"
      ],
      "metadata": {
        "id": "V7A1roKhPLrG"
      }
    },
    {
      "cell_type": "code",
      "source": [
        "# Initialising the ANN\n",
        "chess_model1 = Sequential()\n",
        "\n",
        "# Adding the input layer and the first hidden layer\n",
        "chess_model1.add(Dense(1000,input_dim=48,activation='relu'))\n",
        "chess_model1.add(Dense(500,activation='relu'))\n",
        "chess_model1.add(Dropout(0.1))\n",
        "chess_model1.add(Dense(100,activation='relu'))\n",
        "\n",
        "\n",
        "#Protects against overfitting\n",
        "chess_model1.add(Dropout(0.2))\n",
        "\n",
        "# Adding the output layer\n",
        "chess_model1.add(Dense(18,activation='softmax'))\n",
        "\n",
        "# Compiling the ANN\n",
        "chess_model1.compile(loss='categorical_crossentropy',optimizer='nadam',metrics=['accuracy'])\n",
        "chess_model1.fit(X_train,Y_train,validation_data=(X_test,Y_test),batch_size=30,epochs=10,verbose=1, use_multiprocessing=1)\n",
        "\n",
        "# Predicting the Test set results\n",
        "y_pred = chess_model1.predict(X_test)\n",
        "y_pred = (y_pred > 0.5)\n",
        "\n",
        "prediction=chess_model1.predict(X_test)\n",
        "length=len(prediction)\n",
        "y_label=np.argmax(Y_test,axis=1)\n",
        "predict_label=np.argmax(prediction,axis=1)\n",
        "#how times it matched/ how many test cases\n",
        "accuracy=np.sum(y_label==predict_label)/length * 100 \n",
        "print(\"Accuracy of the dataset\",accuracy )"
      ],
      "metadata": {
        "id": "6VO6TUtEcyRT",
        "colab": {
          "base_uri": "https://localhost:8080/"
        },
        "outputId": "4b654deb-eac9-4597-ff67-f249fe7604f2"
      },
      "execution_count": null,
      "outputs": [
        {
          "output_type": "stream",
          "name": "stdout",
          "text": [
            "Epoch 1/10\n",
            "749/749 [==============================] - 15s 19ms/step - loss: 1.4159 - accuracy: 0.4709 - val_loss: 1.0624 - val_accuracy: 0.5768\n",
            "Epoch 2/10\n",
            "749/749 [==============================] - 14s 18ms/step - loss: 0.7762 - accuracy: 0.6978 - val_loss: 0.6915 - val_accuracy: 0.7251\n",
            "Epoch 3/10\n",
            "749/749 [==============================] - 10s 14ms/step - loss: 0.5966 - accuracy: 0.7691 - val_loss: 0.8429 - val_accuracy: 0.6921\n",
            "Epoch 4/10\n",
            "749/749 [==============================] - 10s 14ms/step - loss: 0.4772 - accuracy: 0.8200 - val_loss: 0.5616 - val_accuracy: 0.7799\n",
            "Epoch 5/10\n",
            "749/749 [==============================] - 10s 14ms/step - loss: 0.3966 - accuracy: 0.8482 - val_loss: 0.4853 - val_accuracy: 0.8136\n",
            "Epoch 6/10\n",
            "749/749 [==============================] - 10s 14ms/step - loss: 0.3238 - accuracy: 0.8769 - val_loss: 0.4157 - val_accuracy: 0.8441\n",
            "Epoch 7/10\n",
            "749/749 [==============================] - 10s 14ms/step - loss: 0.2720 - accuracy: 0.8999 - val_loss: 0.3805 - val_accuracy: 0.8594\n",
            "Epoch 8/10\n",
            "749/749 [==============================] - 10s 14ms/step - loss: 0.2341 - accuracy: 0.9122 - val_loss: 0.3971 - val_accuracy: 0.8567\n",
            "Epoch 9/10\n",
            "749/749 [==============================] - 10s 14ms/step - loss: 0.1980 - accuracy: 0.9278 - val_loss: 0.3754 - val_accuracy: 0.8715\n",
            "Epoch 10/10\n",
            "749/749 [==============================] - 11s 14ms/step - loss: 0.1745 - accuracy: 0.9336 - val_loss: 0.3442 - val_accuracy: 0.8810\n",
            "176/176 [==============================] - 1s 3ms/step\n",
            "176/176 [==============================] - 1s 3ms/step\n",
            "Accuracy of the dataset 88.09693513898789\n"
          ]
        }
      ]
    },
    {
      "cell_type": "markdown",
      "source": [
        "####Krzywa ROC"
      ],
      "metadata": {
        "id": "UjLYZrVGLwB_"
      }
    },
    {
      "cell_type": "code",
      "source": [
        "X_train, X_test, y_train, y_test = train_test_split(X, Y, test_size=0.2, random_state=31)\n",
        "\n",
        "pred = chess_model.predict(X_test)\n",
        "pred1 = chess_model1.predict(X_test)\n",
        "pred = np.transpose(pred)\n",
        "pred1 = np.transpose(pred1)\n",
        "y_test = np.transpose(Y_test)\n",
        "\n",
        "# using the variable axs for multiple Axes\n",
        "fig, axs = plt.subplots(6, 3)\n",
        "\n",
        "plt.subplots_adjust(top = 0.99, bottom=0.01, hspace=.5, wspace=0.2)\n",
        "fig.set_figheight(25)\n",
        "fig.set_figwidth(20)\n",
        "\n",
        "for i in range(len(pred)):\n",
        "    x = i // 3\n",
        "    y = i % 3\n",
        "    fpr, tpr, _ = metrics.roc_curve(y_test[i],  pred[i])\n",
        "    fpr1, tpr1, _ = metrics.roc_curve(y_test[i],  pred1[i])\n",
        "    #create ROC curve\n",
        "    axs[x, y].plot(fpr,tpr, label=f'first model (AUC = {metrics.auc(fpr, tpr):.7})')\n",
        "    axs[x, y].plot(fpr1,tpr1, color='red', label=f'second model (AUC = {metrics.auc(fpr1, tpr1):.7})')\n",
        "    axs[x, y].legend(loc=\"lower right\")\n",
        "    axs[x, y].set_title(f'class {i}')\n",
        "    axs[x, y].set_ylabel('True Positive Rate')\n",
        "    axs[x, y].set_xlabel('False Positive Rate')\n",
        "\n",
        "plt.show()"
      ],
      "metadata": {
        "colab": {
          "base_uri": "https://localhost:8080/",
          "height": 1000
        },
        "id": "xC9RcameL6TK",
        "outputId": "31b9829e-7aa6-46b1-8b9e-e470a45e2896"
      },
      "execution_count": null,
      "outputs": [
        {
          "output_type": "stream",
          "name": "stdout",
          "text": [
            "176/176 [==============================] - 0s 3ms/step\n",
            "176/176 [==============================] - 1s 4ms/step\n"
          ]
        },
        {
          "output_type": "display_data",
          "data": {
            "text/plain": [
              "<Figure size 1440x1800 with 18 Axes>"
            ],
            "image/png": "[encoded data removed]"
          },
          "metadata": {
            "needs_background": "light"
          }
        }
      ]
    },
    {
      "cell_type": "markdown",
      "source": [
        "Jak można zauważyć, dla każdej klasy krzywe są bardzo dobre, będąc blisko perfekcyjnego klasyfikatora. Dodatkowo, drugi model nie różni się za bardzo z pierwszym.\n",
        "\n",
        "Dla klas 1-5 wartości mogą być niemiarodajne, ale z powodu małej ilości rekordów w danej klasie."
      ],
      "metadata": {
        "id": "_tu_O8kyUxmc"
      }
    },
    {
      "cell_type": "markdown",
      "source": [
        "#Reklamy - FFNN"
      ],
      "metadata": {
        "id": "cTOBVEonPArS"
      }
    },
    {
      "cell_type": "markdown",
      "source": [
        "##Struktura sieci"
      ],
      "metadata": {
        "id": "mraGzv3ZPbx8"
      }
    },
    {
      "cell_type": "markdown",
      "source": [
        "Normalizacja danych i rozdzielenie ich na zbiory trenujące i testowe."
      ],
      "metadata": {
        "id": "uxdXv7i3V40J"
      }
    },
    {
      "cell_type": "code",
      "source": [
        "# Zbiory atrybutów i wyników.\n",
        "X_ads = ads_dataset.iloc[:, :-1].values\n",
        "Y_ads = ads_dataset.iloc[:, -1].values\n",
        "\n",
        "# Normalizacja zbioru atrybutów\n",
        "X_ads = normalize(X_ads,axis=0)\n",
        "\n",
        "# Podział zbiorów na zbiory trenujące i testowe\n",
        "X_ads_train, X_ads_test, Y_ads_train, Y_ads_test = train_test_split(X_ads, Y_ads, test_size=0.30, random_state=31)\n",
        "\n",
        "# Zamiana 1 i 0 mówiących o tym czy obrazek jest reklamą na wektory i długości\n",
        "Y_ads_train=np_utils.to_categorical(Y_ads_train,num_classes=2)\n",
        "Y_ads_test=np_utils.to_categorical(Y_ads_test,num_classes=2)"
      ],
      "metadata": {
        "id": "vwhZdki3_BVQ"
      },
      "execution_count": null,
      "outputs": []
    },
    {
      "cell_type": "markdown",
      "source": [
        "Konstruowanie modelu. Punktem odniesienia była kategoryzacja irysów."
      ],
      "metadata": {
        "id": "V-szYvY1WJcy"
      }
    },
    {
      "cell_type": "code",
      "source": [
        "# Initialising the ANN\n",
        "model = Sequential()\n",
        "\n",
        "# Adding the input layer and the first hidden layer\n",
        "model.add(Dense(1000,input_dim=1558,activation='relu'))\n",
        "model.add(Dense(50,activation='relu'))\n",
        "\n",
        "#Protects against overfitting\n",
        "model.add(Dropout(0.2))\n",
        "\n",
        "# Adding the output layer\n",
        "model.add(Dense(2,activation='softmax'))\n",
        "\n",
        "# Compiling the ANN\n",
        "model.compile(loss='categorical_crossentropy',optimizer='adam',metrics=['accuracy'])"
      ],
      "metadata": {
        "id": "r3VAt1e2_J8d"
      },
      "execution_count": null,
      "outputs": []
    },
    {
      "cell_type": "markdown",
      "source": [
        "##Uczenie sie"
      ],
      "metadata": {
        "id": "v4i4XRKbPbx8"
      }
    },
    {
      "cell_type": "markdown",
      "source": [
        "Model poddajemy uczeniu."
      ],
      "metadata": {
        "id": "h9d0eQQNXDzv"
      }
    },
    {
      "cell_type": "code",
      "source": [
        "model.fit(X_ads_train,Y_ads_train,validation_data=(X_ads_test,Y_ads_test),batch_size=30,epochs=10,verbose=1, use_multiprocessing=1)"
      ],
      "metadata": {
        "id": "1M8_H56r_NK_",
        "colab": {
          "base_uri": "https://localhost:8080/"
        },
        "outputId": "60b5d5fb-9434-49dd-e144-e1dfaeca9ca1"
      },
      "execution_count": null,
      "outputs": [
        {
          "output_type": "stream",
          "name": "stdout",
          "text": [
            "Epoch 1/10\n",
            "77/77 [==============================] - 4s 39ms/step - loss: 0.2812 - accuracy: 0.9007 - val_loss: 0.1268 - val_accuracy: 0.9644\n",
            "Epoch 2/10\n",
            "77/77 [==============================] - 2s 27ms/step - loss: 0.0877 - accuracy: 0.9717 - val_loss: 0.0936 - val_accuracy: 0.9685\n",
            "Epoch 3/10\n",
            "77/77 [==============================] - 2s 27ms/step - loss: 0.0591 - accuracy: 0.9821 - val_loss: 0.0920 - val_accuracy: 0.9746\n",
            "Epoch 4/10\n",
            "77/77 [==============================] - 2s 28ms/step - loss: 0.0515 - accuracy: 0.9830 - val_loss: 0.0951 - val_accuracy: 0.9726\n",
            "Epoch 5/10\n",
            "77/77 [==============================] - 2s 27ms/step - loss: 0.0430 - accuracy: 0.9861 - val_loss: 0.1099 - val_accuracy: 0.9766\n",
            "Epoch 6/10\n",
            "77/77 [==============================] - 2s 29ms/step - loss: 0.0353 - accuracy: 0.9895 - val_loss: 0.1081 - val_accuracy: 0.9726\n",
            "Epoch 7/10\n",
            "77/77 [==============================] - 3s 35ms/step - loss: 0.0366 - accuracy: 0.9891 - val_loss: 0.1113 - val_accuracy: 0.9736\n",
            "Epoch 8/10\n",
            "77/77 [==============================] - 3s 38ms/step - loss: 0.0319 - accuracy: 0.9856 - val_loss: 0.1261 - val_accuracy: 0.9756\n",
            "Epoch 9/10\n",
            "77/77 [==============================] - 3s 33ms/step - loss: 0.0329 - accuracy: 0.9878 - val_loss: 0.1243 - val_accuracy: 0.9715\n",
            "Epoch 10/10\n",
            "77/77 [==============================] - 3s 34ms/step - loss: 0.0295 - accuracy: 0.9878 - val_loss: 0.1293 - val_accuracy: 0.9736\n"
          ]
        },
        {
          "output_type": "execute_result",
          "data": {
            "text/plain": [
              "<keras.callbacks.History at 0x7f62d52b3110>"
            ]
          },
          "metadata": {},
          "execution_count": 58
        }
      ]
    },
    {
      "cell_type": "markdown",
      "source": [
        "##Wyniki"
      ],
      "metadata": {
        "id": "nJhobymYPbx8"
      }
    },
    {
      "cell_type": "code",
      "source": [
        "# Predicting the Test set results\n",
        "y_ads_pred = model.predict(X_ads_test)\n",
        "y_ads_pred = (y_ads_pred > 0.5)\n",
        "\n",
        "prediction=model.predict(X_ads_test)\n",
        "length=len(prediction)\n",
        "y_label=np.argmax(Y_ads_test,axis=1)\n",
        "predict_label=np.argmax(prediction,axis=1)\n",
        "#how times it matched/ how many test cases\n",
        "accuracy=np.sum(y_label==predict_label)/length * 100 \n",
        "print(\"Accuracy of the dataset\",accuracy )"
      ],
      "metadata": {
        "id": "F7aFv7eE_REl",
        "colab": {
          "base_uri": "https://localhost:8080/"
        },
        "outputId": "1536be6e-a45c-45f1-de84-2f34a756fc1b"
      },
      "execution_count": null,
      "outputs": [
        {
          "output_type": "stream",
          "name": "stdout",
          "text": [
            "31/31 [==============================] - 1s 18ms/step\n",
            "31/31 [==============================] - 0s 13ms/step\n",
            "Accuracy of the dataset 97.35772357723577\n"
          ]
        }
      ]
    },
    {
      "cell_type": "markdown",
      "source": [
        "Przy zastosowaniu modelu identycznego jak dla kategoryzacji irysów otrzymaliśmy dokładność 97.4% co jest bardzo dobrym wynikiem. Może to wynikać z łatwości problemu ponieważ w reklamach najczęścej używane są podobne słowa takie jak \"click here\", albo \"buy now\"."
      ],
      "metadata": {
        "id": "ySssjqR4ZOIs"
      }
    },
    {
      "cell_type": "markdown",
      "source": [
        "##Dostrajanie"
      ],
      "metadata": {
        "id": "wLLMUyvUPbx8"
      }
    },
    {
      "cell_type": "code",
      "source": [
        "# Initialising the ANN\n",
        "model2 = Sequential()\n",
        "\n",
        "# Adding the input layer and the first hidden layer\n",
        "model2.add(Dense(1000,input_dim=1558,activation='relu'))\n",
        "model2.add(Dense(500,activation='relu'))\n",
        "model2.add(Dense(50,activation='relu'))\n",
        "\n",
        "#Protects against overfitting\n",
        "model2.add(Dropout(0.2))\n",
        "\n",
        "# Adding the output layer\n",
        "model2.add(Dense(2,activation='sigmoid'))\n",
        "\n",
        "# Compiling the ANN\n",
        "model2.compile(loss='binary_crossentropy',optimizer='nadam',metrics=['accuracy'])\n",
        "\n",
        "model2.fit(X_ads_train,Y_ads_train,validation_data=(X_ads_test,Y_ads_test),batch_size=50,epochs=20,verbose=1, use_multiprocessing=1)\n"
      ],
      "metadata": {
        "id": "NsVxpSUr_izX",
        "colab": {
          "base_uri": "https://localhost:8080/"
        },
        "outputId": "4e6d478f-85bc-415d-aef0-50a8f36d4e74"
      },
      "execution_count": null,
      "outputs": [
        {
          "output_type": "stream",
          "name": "stdout",
          "text": [
            "Epoch 1/20\n",
            "46/46 [==============================] - 8s 95ms/step - loss: 0.2862 - accuracy: 0.8989 - val_loss: 0.1236 - val_accuracy: 0.9685\n",
            "Epoch 2/20\n",
            "46/46 [==============================] - 4s 77ms/step - loss: 0.0807 - accuracy: 0.9765 - val_loss: 0.0902 - val_accuracy: 0.9766\n",
            "Epoch 3/20\n",
            "46/46 [==============================] - 4s 87ms/step - loss: 0.0557 - accuracy: 0.9834 - val_loss: 0.0971 - val_accuracy: 0.9776\n",
            "Epoch 4/20\n",
            "46/46 [==============================] - 2s 51ms/step - loss: 0.0471 - accuracy: 0.9839 - val_loss: 0.0951 - val_accuracy: 0.9766\n",
            "Epoch 5/20\n",
            "46/46 [==============================] - 2s 44ms/step - loss: 0.0407 - accuracy: 0.9869 - val_loss: 0.1106 - val_accuracy: 0.9726\n",
            "Epoch 6/20\n",
            "46/46 [==============================] - 2s 45ms/step - loss: 0.0358 - accuracy: 0.9882 - val_loss: 0.1155 - val_accuracy: 0.9776\n",
            "Epoch 7/20\n",
            "46/46 [==============================] - 2s 46ms/step - loss: 0.0298 - accuracy: 0.9891 - val_loss: 0.1330 - val_accuracy: 0.9705\n",
            "Epoch 8/20\n",
            "46/46 [==============================] - 2s 45ms/step - loss: 0.0311 - accuracy: 0.9887 - val_loss: 0.1298 - val_accuracy: 0.9715\n",
            "Epoch 9/20\n",
            "46/46 [==============================] - 2s 45ms/step - loss: 0.0263 - accuracy: 0.9904 - val_loss: 0.1437 - val_accuracy: 0.9705\n",
            "Epoch 10/20\n",
            "46/46 [==============================] - 2s 45ms/step - loss: 0.0283 - accuracy: 0.9900 - val_loss: 0.1478 - val_accuracy: 0.9736\n",
            "Epoch 11/20\n",
            "46/46 [==============================] - 2s 47ms/step - loss: 0.0239 - accuracy: 0.9904 - val_loss: 0.1612 - val_accuracy: 0.9665\n",
            "Epoch 12/20\n",
            "46/46 [==============================] - 2s 54ms/step - loss: 0.0268 - accuracy: 0.9900 - val_loss: 0.1591 - val_accuracy: 0.9746\n",
            "Epoch 13/20\n",
            "46/46 [==============================] - 2s 44ms/step - loss: 0.0266 - accuracy: 0.9904 - val_loss: 0.1539 - val_accuracy: 0.9685\n",
            "Epoch 14/20\n",
            "46/46 [==============================] - 2s 43ms/step - loss: 0.0232 - accuracy: 0.9900 - val_loss: 0.1590 - val_accuracy: 0.9695\n",
            "Epoch 15/20\n",
            "46/46 [==============================] - 2s 42ms/step - loss: 0.0217 - accuracy: 0.9922 - val_loss: 0.1639 - val_accuracy: 0.9695\n",
            "Epoch 16/20\n",
            "46/46 [==============================] - 2s 42ms/step - loss: 0.0199 - accuracy: 0.9930 - val_loss: 0.1914 - val_accuracy: 0.9715\n",
            "Epoch 17/20\n",
            "46/46 [==============================] - 2s 43ms/step - loss: 0.0209 - accuracy: 0.9926 - val_loss: 0.1808 - val_accuracy: 0.9715\n",
            "Epoch 18/20\n",
            "46/46 [==============================] - 2s 42ms/step - loss: 0.0190 - accuracy: 0.9917 - val_loss: 0.1926 - val_accuracy: 0.9746\n",
            "Epoch 19/20\n",
            "46/46 [==============================] - 2s 43ms/step - loss: 0.0180 - accuracy: 0.9935 - val_loss: 0.2071 - val_accuracy: 0.9715\n",
            "Epoch 20/20\n",
            "46/46 [==============================] - 2s 43ms/step - loss: 0.0206 - accuracy: 0.9922 - val_loss: 0.1989 - val_accuracy: 0.9726\n"
          ]
        },
        {
          "output_type": "execute_result",
          "data": {
            "text/plain": [
              "<keras.callbacks.History at 0x7f62d06c4fd0>"
            ]
          },
          "metadata": {},
          "execution_count": 60
        }
      ]
    },
    {
      "cell_type": "code",
      "source": [
        "# Predicting the Test set results\n",
        "y_ads_pred = model2.predict(X_ads_test)\n",
        "y_ads_pred_confusion = y_ads_pred.copy()\n",
        "y_ads_pred = (y_ads_pred > 0.5)\n",
        "\n",
        "prediction=model2.predict(X_ads_test)\n",
        "length=len(prediction)\n",
        "y_label=np.argmax(Y_ads_test,axis=1)\n",
        "predict_label=np.argmax(prediction,axis=1)\n",
        "#how times it matched/ how many test cases\n",
        "accuracy=np.sum(y_label==predict_label)/length * 100 \n",
        "print(\"Accuracy of the dataset\",accuracy )"
      ],
      "metadata": {
        "id": "NgF05jskF3sI",
        "colab": {
          "base_uri": "https://localhost:8080/"
        },
        "outputId": "66085023-0c74-487a-a5a0-ecf941534082"
      },
      "execution_count": null,
      "outputs": [
        {
          "output_type": "stream",
          "name": "stdout",
          "text": [
            "31/31 [==============================] - 0s 7ms/step\n",
            "31/31 [==============================] - 0s 7ms/step\n",
            "Accuracy of the dataset 97.2560975609756\n"
          ]
        }
      ]
    },
    {
      "cell_type": "markdown",
      "source": [
        "Dostrajanie modelu nie przynosiło większych zmian w dokładnościu modelu. Przy różnych kombinacjach konfiguracji dokładność różniła się ±0.5%. Nie udało się nigdy przekroczyć dokładności 98%. Może to być spowodowane prostotą problemu dla sieci neuronowych. Wychwycenie, które słowa kluczowe oznaczają reklamę jest prostym zadaniem. Zwraca to uwagę na to czy do tego problemu wymagane jest użycie sieci neuronowej zamiast standardowych metod."
      ],
      "metadata": {
        "id": "k2QFcnQ9da4y"
      }
    },
    {
      "cell_type": "markdown",
      "source": [
        "#### Krzywa ROC"
      ],
      "metadata": {
        "id": "gsCJhL1GeP66"
      }
    },
    {
      "cell_type": "code",
      "source": [
        "pred1 = model2.predict(X_ads_test)\n",
        "pred1 = np.transpose(pred1)\n",
        "y_test = np.transpose(Y_ads_test)\n",
        "\n",
        "fig = plt.figure()\n",
        "fig.set_figheight(5)\n",
        "fig.set_figwidth(10)\n",
        "\n",
        "fpr, tpr, _ = metrics.roc_curve(y_test[0],  pred1[0])\n",
        "fpr1, tpr1, _ = metrics.roc_curve(y_test[1],  pred1[1])\n",
        "#create ROC curve\n",
        "plt.plot(fpr,tpr, label=f'non ad (AUC = {metrics.auc(fpr, tpr):.7})')\n",
        "plt.plot(fpr1,tpr1, color='red', label=f'ad (AUC = {metrics.auc(fpr1, tpr1):.7})')\n",
        "plt.title(f'ROC curve')\n",
        "plt.ylabel('True Positive Rate')\n",
        "plt.xlabel('False Positive Rate')\n",
        "plt.legend()\n",
        "\n",
        "plt.show()"
      ],
      "metadata": {
        "colab": {
          "base_uri": "https://localhost:8080/",
          "height": 367
        },
        "id": "gtVNz4x-eSRa",
        "outputId": "d13eb9d6-8052-4d69-e00a-c375fb6e92d0"
      },
      "execution_count": null,
      "outputs": [
        {
          "output_type": "stream",
          "name": "stdout",
          "text": [
            "31/31 [==============================] - 0s 7ms/step\n"
          ]
        },
        {
          "output_type": "display_data",
          "data": {
            "text/plain": [
              "<Figure size 720x360 with 1 Axes>"
            ],
            "image/png": "[encoded data removed]"
          },
          "metadata": {
            "needs_background": "light"
          }
        }
      ]
    },
    {
      "cell_type": "markdown",
      "source": [
        "Patrząc na krzywą ROC widzimy, że model dobrze nadaje się do klasyfikacji, powierzchnie pod wykresami są porównywalne więc model podobnie dobrze radzi sobie z rozpoznawanie reklam jak i nie-reklam."
      ],
      "metadata": {
        "id": "GIOOI_KL8UXQ"
      }
    },
    {
      "cell_type": "markdown",
      "source": [
        "## Confusion matrix"
      ],
      "metadata": {
        "id": "XxY2PM3avN-b"
      }
    },
    {
      "cell_type": "code",
      "source": [
        "confusion_matrix = confusion_matrix(y_label, predict_label)\n",
        "cm_df = pd.DataFrame(\n",
        "    confusion_matrix, \n",
        "    index = [idx for idx in ['nonad (pred)', 'ad (pred)']],\n",
        "    columns = [col for col in ['nonad', 'ad']])\n",
        "plt.figure(figsize = (10,7))\n",
        "sns.heatmap(cm_df, annot=True, cbar=False, fmt='g')"
      ],
      "metadata": {
        "colab": {
          "base_uri": "https://localhost:8080/",
          "height": 445
        },
        "id": "Vz1-hftKvQEd",
        "outputId": "ce0ed781-96af-4b7e-8bb0-cc09f02a3a49"
      },
      "execution_count": null,
      "outputs": [
        {
          "output_type": "execute_result",
          "data": {
            "text/plain": [
              "<matplotlib.axes._subplots.AxesSubplot at 0x7f62d13fca10>"
            ]
          },
          "metadata": {},
          "execution_count": 63
        },
        {
          "output_type": "display_data",
          "data": {
            "text/plain": [
              "<Figure size 720x504 with 1 Axes>"
            ],
            "image/png": "[encoded data removed]"
          },
          "metadata": {
            "needs_background": "light"
          }
        }
      ]
    },
    {
      "cell_type": "markdown",
      "source": [
        "Patrząc na confusion matrix widzimy, że model dobrze przewiduje czy obrazek jest reklamą czy nie biorąc pod uwagę, że nie-reklamy stanowiły 86% zbioru testowego."
      ],
      "metadata": {
        "id": "wx_xUDIMy6hv"
      }
    },
    {
      "cell_type": "markdown",
      "source": [
        "#Chess - SOM"
      ],
      "metadata": {
        "id": "-vfwKstHPERk"
      }
    },
    {
      "cell_type": "markdown",
      "source": [
        "##Struktura sieci"
      ],
      "metadata": {
        "id": "3fVGi03JPcR3"
      }
    },
    {
      "cell_type": "markdown",
      "source": [
        "Korzystamy z minisom do implementacji sieci SOM. Wybieramy 50 jako rozmiar mapy. Wartość sigmy początkowo ustawiamy na wartość 5."
      ],
      "metadata": {
        "id": "i1M5oqGMLjg1"
      }
    },
    {
      "cell_type": "code",
      "source": [
        "# Podział zbiorów na zbiory trenujące i testowe\n",
        "X_train, X_test, Y_train, Y_test = train_test_split(X_chess, Y_chess, test_size=0.20, random_state=31)"
      ],
      "metadata": {
        "id": "RiXAhNoJVK05"
      },
      "execution_count": null,
      "outputs": []
    },
    {
      "cell_type": "code",
      "source": [
        "som = MiniSom(x=50, y=50, input_len= 48, sigma=5.0, learning_rate=0.1)\n",
        "som.random_weights_init(X_train)"
      ],
      "metadata": {
        "id": "ycjun9JkVQYM"
      },
      "execution_count": null,
      "outputs": []
    },
    {
      "cell_type": "markdown",
      "source": [
        "##Uczenie sie"
      ],
      "metadata": {
        "id": "7tgj6tl2PcR3"
      }
    },
    {
      "cell_type": "code",
      "source": [
        "som.train_random(data=X_train, num_iteration=500, verbose=True)"
      ],
      "metadata": {
        "id": "28B22OBdVkKd",
        "colab": {
          "base_uri": "https://localhost:8080/"
        },
        "outputId": "b0fb160e-f5b3-4a10-c555-2ca11ed4a6d1"
      },
      "execution_count": null,
      "outputs": [
        {
          "output_type": "stream",
          "name": "stdout",
          "text": [
            " [ 500 / 500 ] 100% - 0:00:00 left \n",
            " quantization error: 0.003792719837141949\n"
          ]
        }
      ]
    },
    {
      "cell_type": "markdown",
      "source": [
        "##Wyniki"
      ],
      "metadata": {
        "id": "qRCd418SPcR3"
      }
    },
    {
      "cell_type": "code",
      "source": [
        "def classify(som, data, Xtrain, Ytrain):\n",
        "    \"\"\"Classifies each sample in data in one of the classes definited\n",
        "    using the method labels_map.\n",
        "    Returns a list of the same length of data where the i-th element\n",
        "    is the class assigned to data[i].\n",
        "    \"\"\"\n",
        "    winmap = som.labels_map(Xtrain, Ytrain)\n",
        "    default_class = np.sum(list(winmap.values())).most_common()[0][0]\n",
        "    result = []\n",
        "    for d in data:\n",
        "        win_position = som.winner(d)\n",
        "        if win_position in winmap:\n",
        "            result.append(winmap[win_position].most_common()[0][0])\n",
        "        else:\n",
        "            result.append(default_class)\n",
        "    return result"
      ],
      "metadata": {
        "id": "WcCjt7ACZDk5"
      },
      "execution_count": null,
      "outputs": []
    },
    {
      "cell_type": "markdown",
      "source": [
        "Obliczamy średnią precyzję modelu. W tym celu korzystamy z raportu klasyfikacji z modułu sklearn"
      ],
      "metadata": {
        "id": "XC9uIGVjIa2h"
      }
    },
    {
      "cell_type": "code",
      "source": [
        "print(metrics.classification_report(Y_test, classify(som, X_test, X_train, Y_train)))"
      ],
      "metadata": {
        "id": "dSpXJfCJVk_4",
        "colab": {
          "base_uri": "https://localhost:8080/"
        },
        "outputId": "d7e73aed-ff2c-4e36-edff-324697595ba8"
      },
      "execution_count": null,
      "outputs": [
        {
          "output_type": "stream",
          "name": "stdout",
          "text": [
            "              precision    recall  f1-score   support\n",
            "\n",
            "           0       0.30      0.68      0.42       555\n",
            "           1       0.00      0.00      0.00         4\n",
            "           2       0.00      0.00      0.00        21\n",
            "           3       0.18      0.07      0.10        43\n",
            "           4       0.00      0.00      0.00        12\n",
            "           5       0.00      0.00      0.00        41\n",
            "           6       0.33      0.06      0.10        90\n",
            "           7       0.24      0.07      0.11       117\n",
            "           8       0.00      0.00      0.00       137\n",
            "           9       0.24      0.38      0.30       271\n",
            "          10       0.22      0.17      0.20       340\n",
            "          11       0.22      0.06      0.10       403\n",
            "          12       0.23      0.16      0.19       571\n",
            "          13       0.33      0.21      0.26       770\n",
            "          14       0.34      0.32      0.33       880\n",
            "          15       0.37      0.58      0.45       911\n",
            "          16       0.28      0.24      0.26       384\n",
            "          17       0.00      0.00      0.00        62\n",
            "\n",
            "    accuracy                           0.31      5612\n",
            "   macro avg       0.18      0.17      0.15      5612\n",
            "weighted avg       0.28      0.31      0.28      5612\n",
            "\n"
          ]
        },
        {
          "output_type": "stream",
          "name": "stderr",
          "text": [
            "/usr/local/lib/python3.7/dist-packages/sklearn/metrics/_classification.py:1318: UndefinedMetricWarning: Precision and F-score are ill-defined and being set to 0.0 in labels with no predicted samples. Use `zero_division` parameter to control this behavior.\n",
            "  _warn_prf(average, modifier, msg_start, len(result))\n",
            "/usr/local/lib/python3.7/dist-packages/sklearn/metrics/_classification.py:1318: UndefinedMetricWarning: Precision and F-score are ill-defined and being set to 0.0 in labels with no predicted samples. Use `zero_division` parameter to control this behavior.\n",
            "  _warn_prf(average, modifier, msg_start, len(result))\n",
            "/usr/local/lib/python3.7/dist-packages/sklearn/metrics/_classification.py:1318: UndefinedMetricWarning: Precision and F-score are ill-defined and being set to 0.0 in labels with no predicted samples. Use `zero_division` parameter to control this behavior.\n",
            "  _warn_prf(average, modifier, msg_start, len(result))\n"
          ]
        }
      ]
    },
    {
      "cell_type": "markdown",
      "source": [
        "Uzyskujemy niską precyzję, w dalszej części poprawiamy parametry w celu uzyskania lepszych wyników"
      ],
      "metadata": {
        "id": "vup1IqGFLxN3"
      }
    },
    {
      "cell_type": "markdown",
      "source": [
        "##Dostrajanie"
      ],
      "metadata": {
        "id": "gHoUKJVvPcR4"
      }
    },
    {
      "cell_type": "markdown",
      "source": [
        "W celu ulepszenia modelu, trenujemy sieć korzystając z różnych typów funckji sąsiedztwa oraz aktywacyjnych. Wartość sigma w każdym przypadku została ustawiona na 1 gdyż taka wartość dawała najlepszy rezultat. "
      ],
      "metadata": {
        "id": "gq7xG9LtHS5I"
      }
    },
    {
      "cell_type": "code",
      "source": [
        "som = MiniSom(18,18, input_len= 6, sigma=1.0, learning_rate=0.5, \n",
        "              neighborhood_function='gaussian',   activation_distance=\"euclidean\")\n",
        "som.random_weights_init(X_train)\n",
        "som.train(X_train, 500, verbose=True)\n",
        "print(metrics.classification_report(Y_test, classify(som, X_test, X_train, Y_train)))"
      ],
      "metadata": {
        "id": "ntkLSdkzZFUe",
        "colab": {
          "base_uri": "https://localhost:8080/"
        },
        "outputId": "bd07300a-4774-4faa-997c-10290f539091"
      },
      "execution_count": null,
      "outputs": [
        {
          "output_type": "stream",
          "name": "stdout",
          "text": [
            " [ 500 / 500 ] 100% - 0:00:00 left \n",
            " quantization error: 0.002479906882501957\n",
            "              precision    recall  f1-score   support\n",
            "\n",
            "           0       0.38      0.62      0.47       555\n",
            "           1       0.00      0.00      0.00         4\n",
            "           2       0.00      0.00      0.00        21\n",
            "           3       0.00      0.00      0.00        43\n",
            "           4       0.00      0.00      0.00        12\n",
            "           5       0.15      0.17      0.16        41\n",
            "           6       0.25      0.29      0.27        90\n",
            "           7       0.17      0.13      0.15       117\n",
            "           8       0.27      0.06      0.10       137\n",
            "           9       0.30      0.41      0.34       271\n",
            "          10       0.24      0.24      0.24       340\n",
            "          11       0.20      0.02      0.04       403\n",
            "          12       0.26      0.20      0.23       571\n",
            "          13       0.30      0.28      0.29       770\n",
            "          14       0.40      0.36      0.38       880\n",
            "          15       0.40      0.57      0.47       911\n",
            "          16       0.32      0.35      0.34       384\n",
            "          17       0.17      0.06      0.09        62\n",
            "\n",
            "    accuracy                           0.34      5612\n",
            "   macro avg       0.21      0.21      0.20      5612\n",
            "weighted avg       0.32      0.34      0.31      5612\n",
            "\n"
          ]
        },
        {
          "output_type": "stream",
          "name": "stderr",
          "text": [
            "/usr/local/lib/python3.7/dist-packages/sklearn/metrics/_classification.py:1318: UndefinedMetricWarning: Precision and F-score are ill-defined and being set to 0.0 in labels with no predicted samples. Use `zero_division` parameter to control this behavior.\n",
            "  _warn_prf(average, modifier, msg_start, len(result))\n",
            "/usr/local/lib/python3.7/dist-packages/sklearn/metrics/_classification.py:1318: UndefinedMetricWarning: Precision and F-score are ill-defined and being set to 0.0 in labels with no predicted samples. Use `zero_division` parameter to control this behavior.\n",
            "  _warn_prf(average, modifier, msg_start, len(result))\n",
            "/usr/local/lib/python3.7/dist-packages/sklearn/metrics/_classification.py:1318: UndefinedMetricWarning: Precision and F-score are ill-defined and being set to 0.0 in labels with no predicted samples. Use `zero_division` parameter to control this behavior.\n",
            "  _warn_prf(average, modifier, msg_start, len(result))\n"
          ]
        }
      ]
    },
    {
      "cell_type": "markdown",
      "source": [
        "Uzyskaliśmy drobną poprawę względem precyzji, błąd nie uległ większym zmianom, co oznacza że mapa nie robiła dużo zmian od swoich początkowych wartości."
      ],
      "metadata": {
        "id": "6bfzRNidJKWd"
      }
    },
    {
      "cell_type": "markdown",
      "source": [
        "#Reklamy - SOM"
      ],
      "metadata": {
        "id": "FbzJCqrYPGoX"
      }
    },
    {
      "cell_type": "markdown",
      "source": [
        "##Struktura sieci\n",
        "\n",
        "Podobnie jak w przykładzie szachów, stosujemy 50 neuronów w obu osiach mapy."
      ],
      "metadata": {
        "id": "wNIZr3E3PciO"
      }
    },
    {
      "cell_type": "code",
      "source": [
        "X_ads_train, X_ads_test, Y_ads_train, Y_ads_test = train_test_split(X_ads, Y_ads, test_size=0.20, random_state=31)"
      ],
      "metadata": {
        "id": "PaJCAISXltCG"
      },
      "execution_count": null,
      "outputs": []
    },
    {
      "cell_type": "code",
      "source": [
        "som_ads = MiniSom(x=50, y=50, input_len=1558, \n",
        "                  sigma=1.0, learning_rate=0.5)\n",
        "som_ads.random_weights_init(X_ads_train)"
      ],
      "metadata": {
        "id": "eSBqkHzqqk36"
      },
      "execution_count": null,
      "outputs": []
    },
    {
      "cell_type": "markdown",
      "source": [
        "##Uczenie sie"
      ],
      "metadata": {
        "id": "Tp_SKTSePciO"
      }
    },
    {
      "cell_type": "code",
      "source": [
        "som_ads.train_random(data=X_ads_train, num_iteration=500, verbose=True)"
      ],
      "metadata": {
        "id": "YRT9pPgFqpyB",
        "colab": {
          "base_uri": "https://localhost:8080/"
        },
        "outputId": "987d206f-b872-4531-d998-f4a661df4619"
      },
      "execution_count": null,
      "outputs": [
        {
          "output_type": "stream",
          "name": "stdout",
          "text": [
            " [ 500 / 500 ] 100% - 0:00:00 left \n",
            " quantization error: 0.35321831602770315\n"
          ]
        }
      ]
    },
    {
      "cell_type": "markdown",
      "source": [
        "##Wyniki\n",
        "\n",
        "Wykorzystując raport klasyfikacji z modułu sklearn, obliczyliśmy średnią precyzję modelu.\n"
      ],
      "metadata": {
        "id": "ZVKi872hPciO"
      }
    },
    {
      "cell_type": "code",
      "source": [
        "print(metrics.classification_report(Y_ads_test, classify(som_ads, X_ads_test, X_ads_train, Y_ads_train)))"
      ],
      "metadata": {
        "id": "caseQT7fq1tp",
        "colab": {
          "base_uri": "https://localhost:8080/"
        },
        "outputId": "e92262df-f54f-4f93-c3e3-1e99e44a093d"
      },
      "execution_count": null,
      "outputs": [
        {
          "output_type": "stream",
          "name": "stdout",
          "text": [
            "              precision    recall  f1-score   support\n",
            "\n",
            "           0       0.97      0.98      0.97       563\n",
            "           1       0.86      0.83      0.84        93\n",
            "\n",
            "    accuracy                           0.96       656\n",
            "   macro avg       0.91      0.90      0.91       656\n",
            "weighted avg       0.96      0.96      0.96       656\n",
            "\n"
          ]
        }
      ]
    },
    {
      "cell_type": "markdown",
      "source": [
        "##Dostrajanie\n",
        "\n",
        "By ulepszyć model, eskperymentowaliśmy z wartościami i funckjami, tak samo jak w przykładzie wyżej. Znajduje się tu finalny rezultat. Liczba neuronów nie uległa zmianie, gdyż wydłużało by to czas obliczeń modelu, a z rezultatów wyszło że precyzja za bardzo nie wzrosła. Wartość sigma pozostaje na 1.0, gdyż większa wartość zwiększa błąd."
      ],
      "metadata": {
        "id": "o6VihhHZPciO"
      }
    },
    {
      "cell_type": "code",
      "source": [
        "som_ads = MiniSom(x=18, y=18, input_len=1558, \n",
        "                  sigma=1.0, learning_rate=0.5,\n",
        "                  neighborhood_function='bubble',\n",
        "                  activation_distance='cosine')\n",
        "som_ads.random_weights_init(X_ads_train)\n",
        "som_ads.train_random(data=X_ads_train, num_iteration=500, verbose=True)\n",
        "print(metrics.classification_report(Y_ads_test, classify(som_ads, X_ads_test)))"
      ],
      "metadata": {
        "id": "lYOEUPyYq5Wy",
        "colab": {
          "base_uri": "https://localhost:8080/"
        },
        "outputId": "d573ba44-e283-4378-ca70-16ffa8253ed2"
      },
      "execution_count": null,
      "outputs": [
        {
          "output_type": "stream",
          "name": "stdout",
          "text": [
            " [ 500 / 500 ] 100% - 0:00:00 left \n",
            " quantization error: 0.2895577895720718\n",
            "              precision    recall  f1-score   support\n",
            "\n",
            "           0       0.97      0.98      0.98       563\n",
            "           1       0.89      0.84      0.86        93\n",
            "\n",
            "    accuracy                           0.96       656\n",
            "   macro avg       0.93      0.91      0.92       656\n",
            "weighted avg       0.96      0.96      0.96       656\n",
            "\n"
          ]
        }
      ]
    },
    {
      "cell_type": "markdown",
      "source": [
        "Jak można zauważyć, błąd nam spadł, a prezycja wzrosła.\n"
      ],
      "metadata": {
        "id": "JsUmmmXs3SQ_"
      }
    },
    {
      "cell_type": "markdown",
      "source": [
        "#Podsumowanie\n",
        "\n",
        "Patrząc na oba zestawy danych jesteśmy w stanie dojść do wniosku, że oba datasety nie są ciekawymi oraz trudnymi danymi dla sieci neuronowych. \n",
        "\n",
        "Zaczynając od prostszego przykładu z reklamami, mamy tam wiele wartości, które są bardzo charakterystyczne dla reklam, jak \"click here\" albo \"buy now\". Sprawia to, że istnienie tych wartości upewnia model w tym co jest reklamą. Tutaj można by było się pokusić o usunięcie najbardziej dominujących elementów z rekordów, by zobaczyć jak sieć by sobie poradziła z danymi mniej oczywistymi. \n",
        "\n",
        "Patrząc na dataset z szachami, w przypadku sieci feed-forward mamy podobną sytuację. Dla tego rodzaju sieci problem staje się bardzo trywialny, lecz sieć nadal potrzebuje trochę więcej czasu na uzyskanie dużej precyzji. W przypadku self-organizing map, bardzo słabe wyniki są podyktowane tym że korzystamy z klasyfikatorów binarnych na wejściu, co nie jest idealne dla takiego typu sieci.\n",
        "\n",
        "W obu przypadkach, jesteśmy w stanie zaimplementować klasyfikator, który nie polega na sieciach neuronowych i otrzymać podobne wyniki. Również, można by było rozszerzyć te oba problemy, jak opisana wyżej propozycja w przypadku reklam oraz nieograniczanie się do trzech pionków w przypadku szachów."
      ],
      "metadata": {
        "id": "erCxHwE9Pe3K"
      }
    }
  ]
}